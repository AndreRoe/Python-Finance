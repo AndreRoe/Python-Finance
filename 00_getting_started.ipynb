{
 "cells": [
  {
   "cell_type": "markdown",
   "metadata": {
    "slideshow": {
     "slide_type": "slide"
    }
   },
   "source": [
    "<b> \n",
    "    <font size=\"7\">\n",
    "        Computational Finance and FinTech \n",
    "        <br><br>\n",
    "        M.Sc. International Finance\n",
    "    </font>\n",
    "</b>\n",
    "    <br><br>\n",
    "<img src=\"_pics/HWR.png\" width=400px>\n",
    "<br><br>\n",
    "<b>\n",
    "    <font size=\"5\"> \n",
    "        Prof. Dr. Natalie Packham <br>\n",
    "        Berlin School of Economics and Law <br>\n",
    "        Summer Term 2019 \n",
    "    </font>\n",
    "</b>"
   ]
  },
  {
   "cell_type": "markdown",
   "metadata": {
    "slideshow": {
     "slide_type": "slide"
    }
   },
   "source": [
    "### Introduction\n",
    "* This course introduces students to computational methods used in the Finance and FinTech industry.\n",
    "* Students will learn how to write programming code in __Python__.\n",
    "* Along with developing programming skills, a variety of __computational and numerical aspects of finance__ will be introduced, including\n",
    "    * statistical methods in finance, \n",
    "    * financial time series,\n",
    "    * option pricing, \n",
    "    * Monte Carlo methods.\n",
    "* Some methods from machine learning will be treated as well. "
   ]
  },
  {
   "cell_type": "markdown",
   "metadata": {
    "slideshow": {
     "slide_type": "slide"
    }
   },
   "source": [
    "### Introduction\n",
    "* A lot of important information about the course can be found in the __syllabus__ on the course’s Moodle webpage.\n",
    "* The lecture script mainly follows the textbook __Python for Finance (2nd edition)__ by Yves Hilpisch.\n",
    "* The book is available as an __ebook__ from the HWR library ([link](https://ebookcentral.proquest.com/lib/hwr/detail.action?docID=5612855)). \n",
    "* I am grateful to __Yves Hilipsch__ ([The Python Quants Group](https://tpq.io)) for letting me use his code and material.\n",
    "* References to the book are abbreviated as __Py4Fi__.\n",
    "* For example, along with this introductory chapter you may want to consult __Py4Fi, Ch. 1__. "
   ]
  },
  {
   "cell_type": "markdown",
   "metadata": {
    "slideshow": {
     "slide_type": "slide"
    }
   },
   "source": [
    "<h1>Contents<span class=\"tocSkip\"></span></h1>\n",
    "<div class=\"toc\"><ul class=\"toc-item\"><li><span><a href=\"#Getting-started\" data-toc-modified-id=\"Getting-started-1\"><span class=\"toc-item-num\">1&nbsp;&nbsp;</span>Getting started</a></span></li><li><span><a href=\"#Installing-Python-and-Jupyter-Notebook\" data-toc-modified-id=\"Installing-Python-and-Jupyter-Notebook-2\"><span class=\"toc-item-num\">2&nbsp;&nbsp;</span>Installing Python and Jupyter Notebook</a></span></li><li><span><a href=\"#A-first-example\" data-toc-modified-id=\"A-first-example-3\"><span class=\"toc-item-num\">3&nbsp;&nbsp;</span>A first example</a></span></li></ul></div>"
   ]
  },
  {
   "cell_type": "markdown",
   "metadata": {
    "hideCode": true,
    "hidePrompt": false,
    "slideshow": {
     "slide_type": "slide"
    }
   },
   "source": [
    "# Getting started"
   ]
  },
  {
   "cell_type": "markdown",
   "metadata": {
    "hideCode": false,
    "hidePrompt": false,
    "slideshow": {
     "slide_type": "subslide"
    }
   },
   "source": [
    "### Background\n",
    "\n",
    "- Python is an open-source programming language that can be downloaded and used for free.\n",
    "- Python was created by Guido van Rossum and first published in 1991.\n",
    "- Today the language is largely developed by the Python Software Foundation, a nonprofit organization.\n",
    "- It is named after the British comedy group \"Monty Python\"."
   ]
  },
  {
   "cell_type": "markdown",
   "metadata": {
    "slideshow": {
     "slide_type": "subslide"
    }
   },
   "source": [
    "### Features\n",
    "\n",
    "* Open source\n",
    "* Interpreted, i.e., code is compiled at runtime\n",
    "* Multiparadigm (supports e.g. object orientation)\n",
    "* Multipurpose, i.e., it is used for rapid prototyping as well as production systems\n",
    "* Cross-platform (runs on Windows, Linux, MacOS, ...)\n",
    "* Dynamically typed (types are inferred by the Python interpreter)\n",
    "* Indentation aware (indentation is used instead of braces to mark code blocks)\n",
    "* Garbage collection (automated memory management)"
   ]
  },
  {
   "cell_type": "code",
   "execution_count": 5,
   "metadata": {
    "slideshow": {
     "slide_type": "subslide"
    }
   },
   "outputs": [],
   "source": [
    "import this"
   ]
  },
  {
   "cell_type": "markdown",
   "metadata": {
    "slideshow": {
     "slide_type": "slide"
    }
   },
   "source": [
    "Many examples and extended information can be found on the following websites:  \n",
    "\n",
    "* [Beginners' Guide](https://wiki.python.org/moin/BeginnersGuide)\n",
    "* [Python.org](https://docs.python.org/3/tutorial/)  \n",
    "* [Scipy Lectures](http://scipy-lectures.org/_downloads/ScipyLectures-simple.pdf)  \n",
    "* [The Hitchhiker’s Guide to Python](https://docs.python-guide.org)  \n"
   ]
  },
  {
   "cell_type": "markdown",
   "metadata": {
    "hideCode": false,
    "hidePrompt": false,
    "slideshow": {
     "slide_type": "subslide"
    }
   },
   "source": [
    "### Pros\n",
    "- __Universal__: Python runs on any operating system.\n",
    "- __Easy to learn__: Although Python is highly versatile (e.g. can be used for scientific computing), it is relatively easy to learn.\n",
    "- __Readable code__: Python is a high-level programming language, making it easy to read and work with.\n",
    "- __General purpose__: The language can be applied to solve different problems at hand."
   ]
  },
  {
   "cell_type": "markdown",
   "metadata": {},
   "source": [
    "### Cons\n",
    "- __Speed__: While Python is not slow, it cannot keep up with compiled languages such as C, C++, Fortran, COBOL, etc."
   ]
  },
  {
   "cell_type": "markdown",
   "metadata": {
    "hideCode": false,
    "hidePrompt": false,
    "slideshow": {
     "slide_type": "slide"
    }
   },
   "source": [
    "# Installing Python and Jupyter Notebook"
   ]
  },
  {
   "cell_type": "markdown",
   "metadata": {
    "hideCode": false,
    "hidePrompt": false,
    "slideshow": {
     "slide_type": "subslide"
    }
   },
   "source": [
    "### Setting up Python for this class\n",
    "\n",
    "* There are two major versions of Python: Python 2 and Python 3. \n",
    "* We will use __Python 3.7__ in this class.\n",
    "* Easiest method to get started: \n",
    "   * Install [Anaconda](https://www.anaconda.com); this will setup up __Python__ as well as the __Jupyter Notebook__ environment that we are going to use in class. \n",
    "* The easiest way to access code for this class is to install [__GitHub__](https://github.com): \n",
    "   * [Getting started with GitHub](https://help.github.com/en/desktop/getting-started-with-github-desktop/installing-github-desktop)\n",
    "* The course's repository is [here](https://github.com/packham/compfin). \n",
    "* The __Py4Fi__ book's repository is [here](https://github.com/yhilpisch/py4fi2nd). "
   ]
  },
  {
   "cell_type": "markdown",
   "metadata": {
    "hideCode": false,
    "hidePrompt": false,
    "slideshow": {
     "slide_type": "subslide"
    }
   },
   "source": [
    "### Jupyter Notebook\n",
    "\n",
    "* __Jupyter Notebook__ is a browser-based application used for creating and sharing documents, containing live code, visualizations, equations, plain text, and many other features. \n",
    "* Launch Jupyter Notebook: \n",
    "   * from Anaconda or \n",
    "   * from the command line (`Terminal` in MacOs or `cmd` in Windows) using the command \n",
    "``` \n",
    "jupyter notebook\n",
    "```\n",
    "* Jupyter notebooks run in a local webserver."
   ]
  },
  {
   "cell_type": "markdown",
   "metadata": {
    "hideCode": false,
    "hidePrompt": false,
    "slideshow": {
     "slide_type": "subslide"
    }
   },
   "source": [
    "### Jupyter Notebook\n",
    "\n",
    "* Before launching Jupyter Notbook from the command line you may wish to navigate to the directory where the notebooks are stored or where you want to store them.\n",
    "* To open a new notebook click on \"New\" and \"Python 3\" in the Jupyter Notebook main window.\n",
    "* To learn to use Jupyter Notebook before, click on \"Help\" and \"User Interface Tour\". "
   ]
  },
  {
   "cell_type": "markdown",
   "metadata": {
    "hideCode": false,
    "hidePrompt": false,
    "slideshow": {
     "slide_type": "subslide"
    }
   },
   "source": [
    "### Other ways to run Python\n",
    "\n",
    "- The Python __shell__: call `python` from a shell or start an online version at [online shell](https://www.python.org/shell/)\n",
    "![shell](_pics/shell_screenshot.png)"
   ]
  },
  {
   "cell_type": "markdown",
   "metadata": {
    "slideshow": {
     "slide_type": "subslide"
    }
   },
   "source": [
    "### Other ways to run Python\n",
    "\n",
    "* Run Python scripts (suffix `.py`) from a command line using the `python` command, e.g. `python file.py`.\n",
    "* Python’s __IDLE__ (Integrated Development and Learning Environment) is another basic shell to run Python commands.\n",
    "* An __IDE__ (Integrated Development Environment) is an application that integrates programming, running code, debugging, etc.\n",
    "* __IPython__: Interactive Python shell."
   ]
  },
  {
   "cell_type": "markdown",
   "metadata": {
    "slideshow": {
     "slide_type": "subslide"
    }
   },
   "source": [
    "### The Python Ecosystem\n",
    "\n",
    "* Aside from the programming language, there is a large number of packages, modules and other tools available to support specific tasks. \n",
    "* For example, various plotting libraries are available and can be readily used using `import`."
   ]
  },
  {
   "cell_type": "markdown",
   "metadata": {
    "slideshow": {
     "slide_type": "subslide"
    }
   },
   "source": [
    "### The Python Ecosystem"
   ]
  },
  {
   "cell_type": "code",
   "execution_count": 8,
   "metadata": {
    "slideshow": {
     "slide_type": "-"
    }
   },
   "outputs": [
    {
     "data": {
      "image/png": "[encoded data removed]",
      "text/plain": [
       "<Figure size 432x288 with 1 Axes>"
      ]
     },
     "metadata": {
      "needs_background": "light"
     },
     "output_type": "display_data"
    }
   ],
   "source": [
    "import numpy as np\n",
    "import math\n",
    "import matplotlib.pyplot as plt\n",
    "\n",
    "x = np.linspace(0, 6, 100);\n",
    "y = np.sin(x);\n",
    "plt.plot(x, y);"
   ]
  },
  {
   "cell_type": "markdown",
   "metadata": {
    "slideshow": {
     "slide_type": "subslide"
    }
   },
   "source": [
    "### Popular packages (\"The scientific stack\")\n",
    "* [`NumPy`](http://www.numpy.org): multidimensional array objects\n",
    "* [`SciPy`](http://www.scipy.org): functionality often needed in science or finance\n",
    "* [`matplotlib`](http://www.matplotlib.org): plotting\n",
    "* [`pandas`](http://pandas.pydata.org): times series and tabular data\n",
    "* [`scikit-learn`](http://scikit-learn.org): machine learning package\n",
    "* [`PyTables`](http://www.pytables.org): data storage package"
   ]
  },
  {
   "cell_type": "markdown",
   "metadata": {
    "slideshow": {
     "slide_type": "slide"
    }
   },
   "source": [
    "# A first example"
   ]
  },
  {
   "cell_type": "markdown",
   "metadata": {
    "slideshow": {
     "slide_type": "subslide"
    }
   },
   "source": [
    "### Example load and plot financial data\n",
    "\n",
    "* The following code imports the packages that will be used and sets up the plotting library."
   ]
  },
  {
   "cell_type": "code",
   "execution_count": 12,
   "metadata": {
    "slideshow": {
     "slide_type": "-"
    }
   },
   "outputs": [],
   "source": [
    "import numpy as np  \n",
    "import pandas as pd  \n",
    "from pylab import plt, mpl\n",
    "\n",
    "plt.style.use('seaborn')  \n",
    "mpl.rcParams['font.family'] = 'serif'  \n",
    "%matplotlib inline"
   ]
  },
  {
   "cell_type": "markdown",
   "metadata": {
    "slideshow": {
     "slide_type": "subslide"
    }
   },
   "source": [
    "### Example load and plot financial data\n",
    "\n",
    "* The following code imports a time series of S&P 500 index data from a `csv` file (`csv`=comma separated values).\n",
    "* It also shows information about the time series."
   ]
  },
  {
   "cell_type": "code",
   "execution_count": 13,
   "metadata": {
    "slideshow": {
     "slide_type": "-"
    }
   },
   "outputs": [
    {
     "name": "stdout",
     "output_type": "stream",
     "text": [
      "<class 'pandas.core.frame.DataFrame'>\n",
      "DatetimeIndex: 2138 entries, 2010-01-04 to 2018-06-29\n",
      "Data columns (total 1 columns):\n",
      ".SPX    2138 non-null float64\n",
      "dtypes: float64(1)\n",
      "memory usage: 33.4 KB\n"
     ]
    }
   ],
   "source": [
    "data = pd.read_csv('_src/tr_eikon_eod_data.csv',\n",
    "                  index_col=0, parse_dates=True)  \n",
    "data = pd.DataFrame(data['.SPX']) \n",
    "data.dropna(inplace=True)  \n",
    "data.info()  "
   ]
  },
  {
   "cell_type": "markdown",
   "metadata": {
    "hideOutput": true,
    "slideshow": {
     "slide_type": "subslide"
    }
   },
   "source": [
    "### Example load and plot financial data\n",
    "\n",
    "* Transform the index level data to log-returns, estimate volatility (=standard deviation of returns) and produce plots of index and volatility. "
   ]
  },
  {
   "cell_type": "code",
   "execution_count": 14,
   "metadata": {
    "slideshow": {
     "slide_type": "-"
    }
   },
   "outputs": [
    {
     "data": {
      "image/png": "[encoded data removed]",
      "text/plain": [
       "<Figure size 720x432 with 2 Axes>"
      ]
     },
     "metadata": {
      "needs_background": "light"
     },
     "output_type": "display_data"
    }
   ],
   "source": [
    "data['rets'] = np.log(data / data.shift(1))  \n",
    "data['vola'] = data['rets'].rolling(252).std() * np.sqrt(252)    \n",
    " \n",
    "data[['.SPX', 'vola']].plot(subplots=True, figsize=(10, 6));  "
   ]
  }
 ],
 "metadata": {
  "celltoolbar": "Slideshow",
  "kernelspec": {
   "display_name": "Python 3",
   "language": "python",
   "name": "python3"
  },
  "language_info": {
   "codemirror_mode": {
    "name": "ipython",
    "version": 3
   },
   "file_extension": ".py",
   "mimetype": "text/x-python",
   "name": "python",
   "nbconvert_exporter": "python",
   "pygments_lexer": "ipython3",
   "version": "3.7.0"
  },
  "livereveal": {
   "slideNumber": "c"
  },
  "toc": {
   "base_numbering": 1,
   "nav_menu": {},
   "number_sections": true,
   "sideBar": true,
   "skip_h1_title": false,
   "title_cell": "Contents",
   "title_sidebar": "Contents",
   "toc_cell": false,
   "toc_position": {
    "height": "calc(100% - 180px)",
    "left": "10px",
    "top": "150px",
    "width": "288px"
   },
   "toc_section_display": true,
   "toc_window_display": false
  }
 },
 "nbformat": 4,
 "nbformat_minor": 2
}

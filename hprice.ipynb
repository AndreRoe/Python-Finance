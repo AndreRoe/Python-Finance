{
 "cells": [
  {
   "cell_type": "code",
   "execution_count": 24,
   "metadata": {},
   "outputs": [],
   "source": [
    "import numpy as np\n",
    "import pandas as pd\n",
    "from pylab import mpl , plt\n",
    "import statsmodels.api as sm\n",
    "plt.style.use('seaborn')"
   ]
  },
  {
   "cell_type": "code",
   "execution_count": 26,
   "metadata": {},
   "outputs": [
    {
     "name": "stdout",
     "output_type": "stream",
     "text": [
      "WARNING *** OLE2 inconsistency: SSCS size is 0 but SSAT size is non-zero\n",
      "                            OLS Regression Results                            \n",
      "==============================================================================\n",
      "Dep. Variable:             sale price   R-squared:                       0.134\n",
      "Model:                            OLS   Adj. R-squared:                  0.133\n",
      "Method:                 Least Squares   F-statistic:                     84.38\n",
      "Date:                Wed, 08 May 2019   Prob (F-statistic):           8.53e-19\n",
      "Time:                        13:56:21   Log-Likelihood:                -6300.0\n",
      "No. Observations:                 546   AIC:                         1.260e+04\n",
      "Df Residuals:                     544   BIC:                         1.261e+04\n",
      "Df Model:                           1                                         \n",
      "Covariance Type:            nonrobust                                         \n",
      "==============================================================================\n",
      "                 coef    std err          t      P>|t|      [0.025      0.975]\n",
      "------------------------------------------------------------------------------\n",
      "const       2.877e+04   4413.753      6.519      0.000    2.01e+04    3.74e+04\n",
      "#bedroom    1.327e+04   1444.598      9.186      0.000    1.04e+04    1.61e+04\n",
      "==============================================================================\n",
      "Omnibus:                       91.631   Durbin-Watson:                   0.812\n",
      "Prob(Omnibus):                  0.000   Jarque-Bera (JB):              162.283\n",
      "Skew:                           0.994   Prob(JB):                     5.76e-36\n",
      "Kurtosis:                       4.784   Cond. No.                         14.0\n",
      "==============================================================================\n",
      "\n",
      "Warnings:\n",
      "[1] Standard Errors assume that the covariance matrix of the errors is correctly specified.\n"
     ]
    }
   ],
   "source": [
    "hprice = pd.read_excel('./data/hprice.xls')\n",
    "Y = hprice['sale price']\n",
    "X = hprice['#bedroom']\n",
    "X = sm.add_constant(X)\n",
    "model = sm.OLS(Y,X)\n",
    "results = model.fit()\n",
    "print(results.summary())"
   ]
  },
  {
   "cell_type": "code",
   "execution_count": 23,
   "metadata": {},
   "outputs": [
    {
     "name": "stdout",
     "output_type": "stream",
     "text": [
      "                            OLS Regression Results                            \n",
      "==============================================================================\n",
      "Dep. Variable:             sale price   R-squared:                       0.536\n",
      "Model:                            OLS   Adj. R-squared:                  0.532\n",
      "Method:                 Least Squares   F-statistic:                     156.0\n",
      "Date:                Wed, 08 May 2019   Prob (F-statistic):           1.18e-88\n",
      "Time:                        12:36:49   Log-Likelihood:                -6130.0\n",
      "No. Observations:                 546   AIC:                         1.227e+04\n",
      "Df Residuals:                     541   BIC:                         1.229e+04\n",
      "Df Model:                           4                                         \n",
      "Covariance Type:            nonrobust                                         \n",
      "==============================================================================\n",
      "                 coef    std err          t      P>|t|      [0.025      0.975]\n",
      "------------------------------------------------------------------------------\n",
      "const      -4009.5500   3603.109     -1.113      0.266   -1.11e+04    3068.248\n",
      "lot size       5.4292      0.369     14.703      0.000       4.704       6.155\n",
      "#bedroom    2824.6138   1214.808      2.325      0.020     438.296    5210.932\n",
      "#bath       1.711e+04   1734.434      9.862      0.000    1.37e+04    2.05e+04\n",
      "#stories    7634.8970   1007.974      7.574      0.000    5654.874    9614.920\n",
      "==============================================================================\n",
      "Omnibus:                       94.915   Durbin-Watson:                   1.483\n",
      "Prob(Omnibus):                  0.000   Jarque-Bera (JB):              232.320\n",
      "Skew:                           0.893   Prob(JB):                     3.57e-51\n",
      "Kurtosis:                       5.650   Cond. No.                     2.64e+04\n",
      "==============================================================================\n",
      "\n",
      "Warnings:\n",
      "[1] Standard Errors assume that the covariance matrix of the errors is correctly specified.\n",
      "[2] The condition number is large, 2.64e+04. This might indicate that there are\n",
      "strong multicollinearity or other numerical problems.\n"
     ]
    }
   ],
   "source": [
    "X= hprice [['lot size', '#bedroom', '#bath', '#stories']]\n",
    "X = sm.add_constant(X)\n",
    "model = sm.OLS(Y,X)\n",
    "results = model.fit()\n",
    "print(results.summary())"
   ]
  },
  {
   "cell_type": "code",
   "execution_count": null,
   "metadata": {},
   "outputs": [],
   "source": []
  }
 ],
 "metadata": {
  "kernelspec": {
   "display_name": "Python 3",
   "language": "python",
   "name": "python3"
  },
  "language_info": {
   "codemirror_mode": {
    "name": "ipython",
    "version": 3
   },
   "file_extension": ".py",
   "mimetype": "text/x-python",
   "name": "python",
   "nbconvert_exporter": "python",
   "pygments_lexer": "ipython3",
   "version": "3.7.0"
  }
 },
 "nbformat": 4,
 "nbformat_minor": 2
}

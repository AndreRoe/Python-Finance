{
 "cells": [
  {
   "cell_type": "markdown",
   "metadata": {},
   "source": [
    "# Computational Finance and FinTech, Problem Set 7\n",
    "## (c) Prof. Dr. N. Packham, HWR Berlin\n",
    "## Exercise 1"
   ]
  },
  {
   "cell_type": "code",
   "execution_count": null,
   "metadata": {},
   "outputs": [],
   "source": [
    "import math\n",
    "import numpy as np\n",
    "import scipy as sp\n",
    "import scipy.stats as scs\n",
    "import matplotlib.pyplot as plt\n",
    "\n",
    "def callprice(S,K,T,sigma,r):\n",
    "    d1=(sp.log(S/K) + (r + 0.5 * sigma**2)*T) / (sigma * sp.sqrt(T))\n",
    "    d2=(sp.log(S/K) + (r - 0.5 * sigma**2)*T) / (sigma * sp.sqrt(T))\n",
    "    return S*scs.norm.cdf(d1) - math.exp(-r *T) * K * scs.norm.cdf(d2)\n",
    "\n",
    "def delta(S, K, T, sigma, r):\n",
    "    d1=(math.log(S/K) + (r + 0.5 * sigma**2)*T) / (sigma * math.sqrt(T))\n",
    "    return scs.norm.cdf(d1) \n",
    "\n",
    "def gamma(S, K, T, sigma, r):\n",
    "    d1=(math.log(S/K) + (r + 0.5 * sigma**2)*T) / (sigma * math.sqrt(T))\n",
    "    return scs.norm.pdf(d1) / (S * sigma * math.sqrt(T))\n",
    "\n",
    "def vega(S, K, T, sigma, r):\n",
    "    d1=(math.log(S/K) + (r + 0.5 * sigma**2)*T) / (sigma * math.sqrt(T))\n",
    "    return S * math.sqrt(T) * scs.norm.pdf(d1)"
   ]
  },
  {
   "cell_type": "code",
   "execution_count": null,
   "metadata": {},
   "outputs": [],
   "source": [
    "callprice(100, 100, 1, 0.2, 0.05)"
   ]
  },
  {
   "cell_type": "code",
   "execution_count": null,
   "metadata": {},
   "outputs": [],
   "source": [
    "delta(100, 100, 1, 0.2, 0.05)"
   ]
  },
  {
   "cell_type": "code",
   "execution_count": null,
   "metadata": {},
   "outputs": [],
   "source": [
    "gamma(100, 100, 1, 0.2, 0.05)"
   ]
  },
  {
   "cell_type": "code",
   "execution_count": null,
   "metadata": {},
   "outputs": [],
   "source": [
    "vega(100, 100, 1, 0.2, 0.05)"
   ]
  },
  {
   "cell_type": "markdown",
   "metadata": {},
   "source": [
    "Call price change if stock goes up/down by 1 EUR\n",
    "This is approx. equal to Delta. The difference comes from discretising to a 1 EUR stock price change."
   ]
  },
  {
   "cell_type": "code",
   "execution_count": null,
   "metadata": {},
   "outputs": [],
   "source": [
    "callprice(101, 100, 1, 0.2, 0.05) - callprice(100, 100, 1, 0.2, 0.05)"
   ]
  },
  {
   "cell_type": "code",
   "execution_count": null,
   "metadata": {},
   "outputs": [],
   "source": [
    "callprice(99, 100, 1, 0.2, 0.05) - callprice(100, 100, 1, 0.2, 0.05)"
   ]
  },
  {
   "cell_type": "markdown",
   "metadata": {},
   "source": [
    "Call price change if volatility goes up/down by 1 percentage point\n",
    "This is approx. equal to vega multiplied by 0.01"
   ]
  },
  {
   "cell_type": "code",
   "execution_count": null,
   "metadata": {},
   "outputs": [],
   "source": [
    "callprice(100, 100, 1, 0.21, 0.05) - callprice(100, 100, 1, 0.2, 0.05)"
   ]
  },
  {
   "cell_type": "code",
   "execution_count": null,
   "metadata": {},
   "outputs": [],
   "source": [
    "callprice(100, 100, 1, 0.19, 0.05) - callprice(100, 100, 1, 0.2, 0.05)"
   ]
  },
  {
   "cell_type": "markdown",
   "metadata": {},
   "source": [
    "## Exercise 2\n",
    "For (a) see Exercise 1\n",
    "\n",
    "(b) Solve the linear system that makes the extended portfolio both gamma- and delta-neutral:"
   ]
  },
  {
   "cell_type": "code",
   "execution_count": null,
   "metadata": {},
   "outputs": [],
   "source": [
    "[d,g] = np.linalg.solve(np.array([[1, delta(100, 110, 1, 0.2, 0.05)], [0, gamma(100, 110, 1, 0.2, 0.05)]]),\\\n",
    "                np.array([-delta(100, 100, 1, 0.2, 0.05),-gamma(100, 100, 1, 0.2, 0.05)]))\n",
    "[d,g]"
   ]
  },
  {
   "cell_type": "markdown",
   "metadata": {},
   "source": [
    "Stock price appreciation by 1 EUR:"
   ]
  },
  {
   "cell_type": "code",
   "execution_count": null,
   "metadata": {},
   "outputs": [],
   "source": [
    "(callprice(101 ,100, 1, 0.2, 0.05) + d * 101 + g * callprice(101, 110, 1, 0.2, 0.05)) \\\n",
    "- (callprice(100 ,100, 1, 0.2, 0.05) + d *100 + g * callprice(100, 110, 1, 0.2, 0.05))"
   ]
  },
  {
   "cell_type": "markdown",
   "metadata": {},
   "source": [
    "Stock price depreciation by 1 EUR:"
   ]
  },
  {
   "cell_type": "code",
   "execution_count": null,
   "metadata": {},
   "outputs": [],
   "source": [
    "(callprice(99 ,100, 1, 0.2, 0.05) + d * 99 + g * callprice(99, 110, 1, 0.2, 0.05)) \\\n",
    "- (callprice(100 ,100, 1, 0.2, 0.05) + d *100 + g * callprice(100, 110, 1, 0.2, 0.05))"
   ]
  },
  {
   "cell_type": "markdown",
   "metadata": {},
   "source": [
    "(c) Solve the linear system that makes the position vega-, gamma- and delta-neutral:"
   ]
  },
  {
   "cell_type": "code",
   "execution_count": null,
   "metadata": {},
   "outputs": [],
   "source": [
    "[d, g, v] = np.round(np.linalg.solve(np.array([[1, delta(100, 110, 1, 0.2, 0.05), delta(100, 90, 1, 0.2, 0.05)], \\\n",
    "                          [0, gamma(100, 110, 1, 0.2, 0.05), gamma(100, 90, 1, 0.2, 0.05)], \\\n",
    "                          [0, vega(110, 110, 1, 0.2, 0.05), vega(100, 90, 1, 0.2, 0.05)]]),\\\n",
    "                np.array([-delta(100, 100, 1, 0.2, 0.05),-gamma(100, 100, 1, 0.2, 0.05),\\\n",
    "                         -vega(100, 100, 1, 0.2, 0.05)])), 5)\n",
    "[d, g, v]"
   ]
  },
  {
   "cell_type": "markdown",
   "metadata": {},
   "source": [
    "Value change if stock appreciates / depreciates by 1 EUR:"
   ]
  },
  {
   "cell_type": "code",
   "execution_count": null,
   "metadata": {},
   "outputs": [],
   "source": [
    "np.round((callprice(101 ,100, 1, 0.2, 0.05) + d * 101 + g * callprice(101, 110, 1, 0.2, 0.05) + v * callprice(101, 90, 1, 0.2, 0.05)) \\\n",
    "- (callprice(100 ,100, 1, 0.2, 0.05) + d * 100 + g * callprice(100, 110, 1, 0.2, 0.05) + v * callprice(100, 90, 1, 0.2, 0.05)) , 5)"
   ]
  },
  {
   "cell_type": "code",
   "execution_count": null,
   "metadata": {},
   "outputs": [],
   "source": [
    "np.round((callprice(99 ,100, 1, 0.2, 0.05) + d * 99 + g * callprice(99, 110, 1, 0.2, 0.05) + v * callprice(99, 90, 1, 0.2, 0.05)) \\\n",
    "- (callprice(100 ,100, 1, 0.2, 0.05) + d * 100 + g * callprice(100, 110, 1, 0.2, 0.05) + v * callprice(100, 90, 1, 0.2, 0.05)) , 5)"
   ]
  },
  {
   "cell_type": "markdown",
   "metadata": {},
   "source": [
    "Value change if vega appreciates / depreciates by 1 percentage point:"
   ]
  },
  {
   "cell_type": "code",
   "execution_count": null,
   "metadata": {},
   "outputs": [],
   "source": [
    "(callprice(100 ,100, 1, 0.21, 0.05) + d * 100 + g * callprice(100, 110, 1, 0.21, 0.05) + v * callprice(100, 90, 1, 0.21, 0.05)) \\\n",
    "- (callprice(100 ,100, 1, 0.2, 0.05) + d * 100 + g * callprice(100, 110, 1, 0.2, 0.05) + v * callprice(100, 90, 1, 0.2, 0.05)) "
   ]
  },
  {
   "cell_type": "code",
   "execution_count": null,
   "metadata": {},
   "outputs": [],
   "source": [
    "(callprice(100 ,100, 1, 0.19, 0.05) + d * 100 + g * callprice(100, 110, 1, 0.19, 0.05) + v * callprice(100, 90, 1, 0.19, 0.05)) \\\n",
    "- (callprice(100 ,100, 1, 0.2, 0.05) + d * 100 + g * callprice(100, 110, 1, 0.2, 0.05) + v * callprice(100, 90, 1, 0.2, 0.05)) "
   ]
  },
  {
   "cell_type": "markdown",
   "metadata": {},
   "source": [
    "Changes in hedged positions:"
   ]
  },
  {
   "cell_type": "code",
   "execution_count": null,
   "metadata": {},
   "outputs": [],
   "source": [
    "s = np.arange(80, 120, 0.1)\n",
    "ds = s-100\n",
    "plt.figure(figsize=(8, 5))\n",
    "x = delta(100,100,1, 0.2, 0.05)\n",
    "plt.plot(ds, ((callprice(100+ds, 100, 1, 0.2, 0.05)-callprice(100,100,1,0.2,0.05)) + x * ds), label='delta hedged')\n",
    "[x,y] = np.linalg.solve(np.array([[1, delta(100, 110, 1, 0.2, 0.05)], [0, gamma(100, 110, 1, 0.2, 0.05)]]),\\\n",
    "                np.array([-delta(100, 100, 1, 0.2, 0.05),-gamma(100, 100, 1, 0.2, 0.05)]))\n",
    "plt.plot(ds, ((callprice(100+ds, 100, 1, 0.2, 0.05) -callprice(100,100,1,0.2,0.05)) + x * ds \\\n",
    "              + y * (callprice(100+ds, 110, 1, 0.2, 0.05) - callprice(100, 110, 1, 0.2, 0.05))), label='delta/gamma hedged')\n",
    "[x,y,z] = np.round(np.linalg.solve(np.array([[1, delta(100, 110, 1, 0.2, 0.05), delta(100, 90, 1, 0.2, 0.05)], \\\n",
    "                          [0, gamma(100, 110, 1, 0.2, 0.05), gamma(100, 90, 1, 0.2, 0.05)], \\\n",
    "                          [0, vega(110, 110, 1, 0.2, 0.05), vega(100, 90, 1, 0.2, 0.05)]]),\\\n",
    "                np.array([-delta(100, 100, 1, 0.2, 0.05),-gamma(100, 100, 1, 0.2, 0.05),\\\n",
    "                         -vega(100, 100, 1, 0.2, 0.05)])), 5)\n",
    "plt.plot(ds, (callprice(100+ds, 100, 1, 0.2, 0.05) -callprice(100,100,1,0.2,0.05)) + x * ds \\\n",
    "              + y * (callprice(100+ds, 110, 1, 0.2, 0.05) - callprice(100, 110, 1, 0.2, 0.05)) \\\n",
    "              + z * (callprice(100+ds, 90, 1, 0.2, 0.05) - callprice(100, 90, 1, 0.2, 0.05)), label='delta/gamma/vega hedged')\n",
    "plt.xlabel('$\\Delta S$')\n",
    "plt.ylabel('$\\Delta V$')\n",
    "plt.legend()\n",
    "plt.savefig('hedge1.pdf')"
   ]
  },
  {
   "cell_type": "code",
   "execution_count": null,
   "metadata": {},
   "outputs": [],
   "source": [
    "s = np.arange(0.15, 0.25, 0.001)\n",
    "ds = s-.2\n",
    "plt.figure(figsize=(8, 5))\n",
    "x = delta(100,100,1, 0.2, 0.05)\n",
    "plt.plot(ds, ((callprice(100, 100, 1, 0.2+ds, 0.05)-callprice(100,100,1,0.2,0.05)) + x * ds), label='delta hedged')\n",
    "[x,y] = np.linalg.solve(np.array([[1, delta(100, 110, 1, 0.2, 0.05)], [0, gamma(100, 110, 1, 0.2, 0.05)]]),\\\n",
    "                np.array([-delta(100, 100, 1, 0.2, 0.05),-gamma(100, 100, 1, 0.2, 0.05)]))\n",
    "plt.plot(ds, ((callprice(100, 100, 1, 0.2+ds, 0.05) -callprice(100,100,1,0.2,0.05)) + x * ds \\\n",
    "              + y * (callprice(100+ds, 110, 1, 0.2, 0.05) - callprice(100, 110, 1, 0.2, 0.05))), label='delta/gamma hedged')\n",
    "[x,y,z] = np.round(np.linalg.solve(np.array([[1, delta(100, 110, 1, 0.2, 0.05), delta(100, 90, 1, 0.2, 0.05)], \\\n",
    "                          [0, gamma(100, 110, 1, 0.2, 0.05), gamma(100, 90, 1, 0.2, 0.05)], \\\n",
    "                          [0, vega(110, 110, 1, 0.2, 0.05), vega(100, 90, 1, 0.2, 0.05)]]),\\\n",
    "                np.array([-delta(100, 100, 1, 0.2, 0.05),-gamma(100, 100, 1, 0.2, 0.05),\\\n",
    "                         -vega(100, 100, 1, 0.2, 0.05)])), 5)\n",
    "plt.plot(ds, (callprice(100, 100, 1, 0.2+ds, 0.05) -callprice(100,100,1,0.2,0.05)) + x * ds \\\n",
    "              + y * (callprice(100, 110, 1, 0.2+ds, 0.05) - callprice(100, 110, 1, 0.2, 0.05)) \\\n",
    "              + z * (callprice(100, 90, 1, 0.2+ds, 0.05) - callprice(100, 90, 1, 0.2, 0.05)), label='delta/gamma/vega hedged')\n",
    "plt.xlabel('$\\Delta \\sigma$')\n",
    "plt.ylabel('$\\Delta V$')\n",
    "plt.legend()\n",
    "plt.savefig('hedge2.pdf')"
   ]
  },
  {
   "cell_type": "markdown",
   "metadata": {},
   "source": [
    "## Exercise 3"
   ]
  },
  {
   "cell_type": "code",
   "execution_count": null,
   "metadata": {},
   "outputs": [],
   "source": [
    "t = np.arange(0,1,0.01)\n",
    "s = np.arange(80, 120, 0.25)\n",
    "\n",
    "c = np.empty((len(s), len(t)))\n",
    "for i in range(len(s)):\n",
    "    for j in range(len(t)):\n",
    "        c[i,j] = callprice(s[i], 100, 1-t[j], 0.2, 0.05)\n",
    "        \n",
    "t, s = np.meshgrid(t, s) \n",
    "\n",
    "from mpl_toolkits.mplot3d import Axes3D  \n",
    "fig = plt.figure(figsize=(12, 7)) \n",
    "ax = fig.gca(projection='3d')   # set up canvas for 3D plotting\n",
    "surf = ax.plot_surface(t, s, c, rstride=3, cstride=3,\\\n",
    "                       cmap=plt.cm.coolwarm, linewidth=0.5,\\\n",
    "                       antialiased=True)\n",
    "ax.set_ylabel('$S_t$')  \n",
    "ax.set_xlabel('$t$')  \n",
    "ax.set_zlabel('call price')  \n",
    "fig.colorbar(surf, shrink=0.5, aspect=5);  \n",
    "plt.savefig('call.pdf')"
   ]
  },
  {
   "cell_type": "markdown",
   "metadata": {},
   "source": [
    "## Exercise 4"
   ]
  },
  {
   "cell_type": "code",
   "execution_count": null,
   "metadata": {},
   "outputs": [],
   "source": [
    "S0=100\n",
    "r=0.05\n",
    "sigma=0.2\n",
    "T1=1\n",
    "T2=2\n",
    "K1=10\n",
    "K2=100"
   ]
  },
  {
   "cell_type": "markdown",
   "metadata": {},
   "source": [
    "The code below calculates the theoretical price of the compound option (see e.g. Hull: Options, futures and other derivatives.)"
   ]
  },
  {
   "cell_type": "code",
   "execution_count": null,
   "metadata": {},
   "outputs": [],
   "source": [
    "a1=(sp.log(S0/99.285) + (r+0.5* sigma**2/2)*T1) / (sigma* sp.sqrt(T1))\n",
    "b1=(sp.log(S0/K2) + (r+0.5*sigma**2)*T2) / (sigma*sp.sqrt(T2))\n",
    "a2=a1-sigma*sp.sqrt(T1)\n",
    "b2=b1-sigma*sp.sqrt(T2)\n",
    "\n",
    "rho=[[1,sp.sqrt(T1/T2)], [sp.sqrt(T1/T2),1]]\n",
    "\n",
    "S0 *  scs.multivariate_normal.cdf([a1,b1], cov=rho)\\\n",
    "- sp.exp(-r * T2) * K2 * scs.multivariate_normal.cdf([a2,b2], cov=rho)\\\n",
    "- sp.exp(-r * T1) * K1 * scs.norm.cdf(a2)"
   ]
  },
  {
   "cell_type": "markdown",
   "metadata": {},
   "source": [
    "Monte Carlo simulation:"
   ]
  },
  {
   "cell_type": "code",
   "execution_count": null,
   "metadata": {},
   "outputs": [],
   "source": [
    "n=100000\n",
    "w = np.random.standard_normal(n)  # random numbers\n",
    "s = 100 * np.exp((0.05 - 0.5 * 0.2**2) * 1 + 0.2 * sp.sqrt(1) * w) # stock price simulations\n",
    "p = (callprice(s, 100, 1, 0.2, 0.05)-10) # payoff of compound option (first part, without max(...,0) conditions)\n",
    "y = np.exp(-0.05 *1) * (p + abs(p))/2 # payoff of compound option (second part, apply max(...,0) + discounting)\n",
    "\n",
    "# All that is left to do is to calculate the sample mean of y; \n",
    "# here we calculate the sample mean and confidence intervals for various sample sizes\n",
    "y_m = []\n",
    "y_cfl = []\n",
    "y_cfu = []\n",
    "for i in range(1000, n+1, 1000):\n",
    "    y_m.append(np.mean(y[:i]))\n",
    "    y_cfl.append(np.mean(y[:i] - 1.96 * np.std(y[:i])/np.sqrt(i)))    \n",
    "    y_cfu.append(np.mean(y[:i] + 1.96 * np.std(y[:i])/np.sqrt(i)))\n",
    "\n",
    "plt.plot(range(1000,n+1,1000), y_m, 'b', \\\n",
    "         range(1000,n+1,1000), y_cfl, 'g', range(1000,n+1,1000), y_cfu, 'g');\n",
    "plt.xlabel('number of simulations');\n",
    "plt.ylabel('estimates');\n",
    "\n",
    "# Confidence interval and point estimate\n",
    "[y_cfl[-1], y_m[-1], y_cfu[-1]]"
   ]
  },
  {
   "cell_type": "markdown",
   "metadata": {},
   "source": [
    "## Exercise 5"
   ]
  },
  {
   "cell_type": "code",
   "execution_count": null,
   "metadata": {},
   "outputs": [],
   "source": [
    "import numpy as np\n",
    "import pandas as pd\n",
    "from pylab import mpl, plt\n",
    "plt.style.use('seaborn')\n",
    "\n",
    "# load data and transform to returns\n",
    "filename = './data/tr_eikon_eod_data.csv'\n",
    "data = pd.read_csv(filename, index_col=0, parse_dates=True)\n",
    "data.dropna(inplace=True)\n",
    "rets = (data-data.shift(1)) / data.shift(1)\n",
    "\n",
    "rets.dropna(inplace=True)\n",
    "\n",
    "buyhold = 50 * (1+rets['AAPL.O']).cumprod() + 50 * (1+rets['GS.N']).cumprod()\n",
    "\n",
    "constmix = pd.Series(index=rets.index) # Series object to hold constant mix strategy\n",
    "\n",
    "constmix.iloc[0]=100; # starting value\n",
    "value=100;\n",
    "for t in rets.index: # iterate through time, updating the portfolio value\n",
    "    constmix.loc[t] = value * (1+0.5 * rets['AAPL.O'].loc[t] + 0.5 * rets['GS.N'].loc[t])\n",
    "    value=constmix.loc[t]\n",
    "\n",
    "plt.figure()\n",
    "plt.plot(buyhold, label='Buy and hold')\n",
    "plt.plot(constmix, label='Constant mix')\n",
    "plt.legend()\n",
    "plt.savefig(\"strategies.pdf\");"
   ]
  }
 ],
 "metadata": {
  "kernelspec": {
   "display_name": "Python 3",
   "language": "python",
   "name": "python3"
  },
  "language_info": {
   "codemirror_mode": {
    "name": "ipython",
    "version": 3
   },
   "file_extension": ".py",
   "mimetype": "text/x-python",
   "name": "python",
   "nbconvert_exporter": "python",
   "pygments_lexer": "ipython3",
   "version": "3.7.0"
  }
 },
 "nbformat": 4,
 "nbformat_minor": 2
}

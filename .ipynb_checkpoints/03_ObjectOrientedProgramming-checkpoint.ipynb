{
 "cells": [
  {
   "cell_type": "markdown",
   "metadata": {
    "hideCode": false,
    "hidePrompt": false,
    "slideshow": {
     "slide_type": "slide"
    }
   },
   "source": [
    "<b> \n",
    "    <font size=\"7\">\n",
    "        Computational Finance and FinTech <br><br>\n",
    "        M.Sc. International Finance\n",
    "    </font>\n",
    "</b>\n",
    "<br><br>\n",
    "<img src=\"_pics/HWR.png\" width=400px>\n",
    "<br><br>\n",
    "<b>\n",
    "    <font size=\"5\"> \n",
    "        Prof. Dr. Natalie Packham <br>\n",
    "        Berlin School of Economics and Law <br>\n",
    "        Summer Term 2019 \n",
    "    </font>\n",
    "</b>"
   ]
  },
  {
   "cell_type": "markdown",
   "metadata": {
    "slideshow": {
     "slide_type": "slide"
    }
   },
   "source": [
    "<h1>Table of Contents<span class=\"tocSkip\"></span></h1>\n",
    "<div class=\"toc\"><ul class=\"toc-item\"><li><span><a href=\"#Object-oriented-programming\" data-toc-modified-id=\"Object-oriented-programming-3\"><span class=\"toc-item-num\">3&nbsp;&nbsp;</span>Object-oriented programming</a></span><ul class=\"toc-item\"><li><span><a href=\"#A-look-a-Python-objects\" data-toc-modified-id=\"A-look-a-Python-objects-3.1\"><span class=\"toc-item-num\">3.1&nbsp;&nbsp;</span>A look a Python objects</a></span></li><li><span><a href=\"#Basics-of-Python-classes\" data-toc-modified-id=\"Basics-of-Python-classes-3.2\"><span class=\"toc-item-num\">3.2&nbsp;&nbsp;</span>Basics of Python classes</a></span></li><li><span><a href=\"#Python-data-model\" data-toc-modified-id=\"Python-data-model-3.3\"><span class=\"toc-item-num\">3.3&nbsp;&nbsp;</span>Python data model</a></span></li><li><span><a href=\"#Abstract-base-classes\" data-toc-modified-id=\"Abstract-base-classes-3.4\"><span class=\"toc-item-num\">3.4&nbsp;&nbsp;</span>Abstract base classes</a></span></li></ul></li></ul></div>"
   ]
  },
  {
   "cell_type": "markdown",
   "metadata": {
    "slideshow": {
     "slide_type": "slide"
    }
   },
   "source": [
    "# Object-oriented programming"
   ]
  },
  {
   "cell_type": "markdown",
   "metadata": {
    "slideshow": {
     "slide_type": "subslide"
    }
   },
   "source": [
    "* Further reading: __Py4Fi, Chapter 6__"
   ]
  },
  {
   "cell_type": "markdown",
   "metadata": {
    "slideshow": {
     "slide_type": "subslide"
    }
   },
   "source": [
    "### Object-oriented programming\n",
    "* Object-oriented programming (OOP) is a widespread programming paradigm.\n",
    "* OOP revolves around classes and objects. \n",
    "* A __class__ is a definition of a class of objects, e.g. a human being. \n",
    "* An __object__ is an instance of a class, that is a concrete realisation, e.g. Sandra.\n",
    "* An __attribute__ is a property or feature of a class or an object, e.g. `isMammal` or `eyeColor`.\n",
    "* A __method__ is an operation that the class can implement, e.g. `walk()`. \n",
    "* __Parameters__ are the inputs that methods take, e.g. three steps.\n",
    "* __Instantiation__ is the process of creating an object. "
   ]
  },
  {
   "cell_type": "markdown",
   "metadata": {
    "slideshow": {
     "slide_type": "subslide"
    }
   },
   "source": [
    "### Example"
   ]
  },
  {
   "cell_type": "code",
   "execution_count": null,
   "metadata": {},
   "outputs": [],
   "source": [
    "class HumanBeing(object):  # class definition\n",
    "    def __init__(self, first_name, eye_color):  # self refers to current instance of class\n",
    "        self.first_name = first_name  # set attributes at instantiation\n",
    "        self.eye_color = eye_color  \n",
    "        self.position = 0  \n",
    "    def walk_steps(self, steps):  # methods that changes  position\n",
    "        self.position += steps  "
   ]
  },
  {
   "cell_type": "code",
   "execution_count": null,
   "metadata": {},
   "outputs": [],
   "source": [
    "Sandra = HumanBeing('Sandra', 'blue')  "
   ]
  },
  {
   "cell_type": "code",
   "execution_count": null,
   "metadata": {},
   "outputs": [],
   "source": [
    "Sandra.first_name  "
   ]
  },
  {
   "cell_type": "code",
   "execution_count": null,
   "metadata": {},
   "outputs": [],
   "source": [
    "Sandra.position  "
   ]
  },
  {
   "cell_type": "code",
   "execution_count": null,
   "metadata": {},
   "outputs": [],
   "source": [
    "Sandra.walk_steps(5)  "
   ]
  },
  {
   "cell_type": "code",
   "execution_count": null,
   "metadata": {},
   "outputs": [],
   "source": [
    "Sandra.position  "
   ]
  },
  {
   "cell_type": "markdown",
   "metadata": {
    "slideshow": {
     "slide_type": "subslide"
    }
   },
   "source": [
    "### Why is OOP useful?\n",
    "\n",
    "* Supports our natural way of thinking in terms of objects (car, financial instrument, bank account, ...). \n",
    "* Reduces complexity by encapsulating concepts where they belong.\n",
    "* Well-defined user interfaces that support e.g. modifiability of code. \n",
    "* OOP is a paradigm in many programming languages: `C++`, `Java`, `C#`, `Python`, ...\n"
   ]
  },
  {
   "cell_type": "markdown",
   "metadata": {
    "slideshow": {
     "slide_type": "subslide"
    }
   },
   "source": [
    "### Technical aspects of OOP\n",
    "\n",
    "* __Abstraction__: capture generic attributes and methods in abstract classes. \n",
    "* __Inheritance / Types__: a class can inherit attributes and methods from another class, for example from abstract classes, creating a taxonomy of objects. \n",
    "* Example human being:\n",
    "    * `HumanBeing` is of type `Mammal`, which in turn is of type `Animal`. \n",
    "    * `Animal` and `Mammal` might be abstract classes. \n",
    "    * A function that takes `Mammal` as a parameter can be called with `Sandra` as an argument, but it can also be called with any other `Mammal`, e.g. an instance of `Cat`. "
   ]
  },
  {
   "cell_type": "markdown",
   "metadata": {
    "slideshow": {
     "slide_type": "subslide"
    }
   },
   "source": [
    "### Technical aspects of OOP\n",
    "* Example financial product:\n",
    "    * `FinancialProduct` could be an abstract class with a method `presentValue()`. \n",
    "    * Every class that is of type `FinancialProduct` must therefore provide an implementation of `presentValue()`. \n",
    "    * The implementation will typically vary (think of classes `Bond` and `EuropeanCallOption`), but the caller of the method need not worry about this.\n",
    "    * This is also sometimes called __polymorphism__.\n",
    "* __Encapsulation / Interfaces__: This gives control over how properties of objects are accessed and modified. \n",
    "    * For example, attributes may be declared private and modified only through a method that performs sufficient checks to maintain consistency of the object. \n",
    "    * In the case of `HumanBeing` it can be guaranteed that `age` is always a strictly positive number. "
   ]
  },
  {
   "cell_type": "markdown",
   "metadata": {
    "slideshow": {
     "slide_type": "slide"
    }
   },
   "source": [
    "## A look a Python objects\n",
    "\n",
    "* We have already worked with class objects, e.g. `int`:"
   ]
  },
  {
   "cell_type": "code",
   "execution_count": null,
   "metadata": {},
   "outputs": [],
   "source": [
    "n=5 # new instance of int\n",
    "type(n)"
   ]
  },
  {
   "cell_type": "code",
   "execution_count": null,
   "metadata": {},
   "outputs": [],
   "source": [
    "n.numerator # an attribute"
   ]
  },
  {
   "cell_type": "code",
   "execution_count": null,
   "metadata": {},
   "outputs": [],
   "source": [
    "n.bit_length() # a method"
   ]
  },
  {
   "cell_type": "markdown",
   "metadata": {
    "slideshow": {
     "slide_type": "subslide"
    }
   },
   "source": [
    "### A look at Python objects\n",
    "* Or `list`:"
   ]
  },
  {
   "cell_type": "code",
   "execution_count": null,
   "metadata": {},
   "outputs": [],
   "source": [
    "l = [1, 2, 3, 4]  # new instance of list\n",
    "type(l)"
   ]
  },
  {
   "cell_type": "code",
   "execution_count": null,
   "metadata": {},
   "outputs": [],
   "source": [
    "l.append(10) # a method"
   ]
  },
  {
   "cell_type": "markdown",
   "metadata": {
    "slideshow": {
     "slide_type": "subslide"
    }
   },
   "source": [
    "## Basics of Python classes\n",
    "* We go through the basics of OOP in Python by creating a `FinancialInstrument` class"
   ]
  },
  {
   "cell_type": "code",
   "execution_count": null,
   "metadata": {},
   "outputs": [],
   "source": [
    "class FinancialInstrument(object):  # define a new class, ancestor is object\n",
    "    pass                            # some code; pass does nothing"
   ]
  },
  {
   "cell_type": "code",
   "execution_count": null,
   "metadata": {},
   "outputs": [],
   "source": [
    "fi = FinancialInstrument()  # new instance of FinancialInstrument\n",
    "type(fi)"
   ]
  },
  {
   "cell_type": "code",
   "execution_count": null,
   "metadata": {},
   "outputs": [],
   "source": [
    "fi  # string representation of object (every Python object has this)"
   ]
  },
  {
   "cell_type": "code",
   "execution_count": null,
   "metadata": {},
   "outputs": [],
   "source": [
    "fi.__str__()"
   ]
  },
  {
   "cell_type": "code",
   "execution_count": null,
   "metadata": {},
   "outputs": [],
   "source": [
    "fi.price=200 # data attributes can be created on the fly\n",
    "fi.price"
   ]
  },
  {
   "cell_type": "markdown",
   "metadata": {
    "slideshow": {
     "slide_type": "slide"
    }
   },
   "source": [
    "### Basics of Python classes\n",
    "\n",
    "* The method `__init__()` gets called whenever an object is instantiated. \n",
    "* So-called __getter__ and __setter__ methods encapsulate the attributes. \n",
    "* Setting `price` to `__price` below prevents direct access to the attribute"
   ]
  },
  {
   "cell_type": "code",
   "execution_count": null,
   "metadata": {},
   "outputs": [],
   "source": [
    "class FinancialInstrument(object):\n",
    "    author = 'Yves Hilpisch'  \n",
    "    def __init__(self, symbol, price):  \n",
    "        self.symbol = symbol  \n",
    "        self.__price = price  \n",
    "    def get_price(self):  \n",
    "        return self.__price  \n",
    "    def set_price(self, price):  \n",
    "        self.__price = price  "
   ]
  },
  {
   "cell_type": "code",
   "execution_count": null,
   "metadata": {},
   "outputs": [],
   "source": [
    "aapl = FinancialInstrument('AAPL', 100)  "
   ]
  },
  {
   "cell_type": "code",
   "execution_count": null,
   "metadata": {},
   "outputs": [],
   "source": [
    "aapl.symbol  "
   ]
  },
  {
   "cell_type": "markdown",
   "metadata": {
    "slideshow": {
     "slide_type": "subslide"
    }
   },
   "source": [
    "### Basics of Python classes"
   ]
  },
  {
   "cell_type": "code",
   "execution_count": null,
   "metadata": {},
   "outputs": [],
   "source": [
    "aapl.price # does not work"
   ]
  },
  {
   "cell_type": "code",
   "execution_count": null,
   "metadata": {},
   "outputs": [],
   "source": [
    "aapl.__price # does not work"
   ]
  },
  {
   "cell_type": "code",
   "execution_count": null,
   "metadata": {},
   "outputs": [],
   "source": [
    "aapl.get_price()"
   ]
  },
  {
   "cell_type": "code",
   "execution_count": null,
   "metadata": {},
   "outputs": [],
   "source": [
    "aapl._FinancialInstrument__price # it is still possible to access private attributes, but bad style"
   ]
  },
  {
   "cell_type": "markdown",
   "metadata": {
    "slideshow": {
     "slide_type": "slide"
    }
   },
   "source": [
    "## Python data model\n",
    "* We will now look a little deeper into Python classes, especially __method overloading__.\n",
    "* As a case we define a `Vector` class and go through it step-by-step"
   ]
  },
  {
   "cell_type": "code",
   "execution_count": null,
   "metadata": {
    "slideshow": {
     "slide_type": "subslide"
    }
   },
   "outputs": [],
   "source": [
    "class Vector(object):\n",
    "    def __init__(self, x=0, y=0, z=0): # initialise vector; presets for coordinates\n",
    "        self.x = x\n",
    "        self.y = y\n",
    "        self.z = z\n",
    "    \n",
    "    def __repr__(self):  # default string representation\n",
    "        return 'Vector(%r, %r, %r)' % (self.x, self.y, self.z)\n",
    "    \n",
    "    def __abs__(self):\n",
    "        return (self.x ** 2 +  self.y ** 2 + self.z ** 2) ** 0.5\n",
    "    \n",
    "    def __add__(self, other):\n",
    "        x = self.x + other.x\n",
    "        y = self.y + other.y\n",
    "        z = self.z + other.z\n",
    "        return Vector(x, y, z)\n",
    "    \n",
    "    def __mul__(self, scalar):\n",
    "        return Vector(self.x * scalar, self.y * scalar, self.z * scalar)\n",
    "    \n",
    "    def __len__(self):\n",
    "        return 3\n",
    "    \n",
    "    def __getitem__(self, i):\n",
    "        if i in [0, -3]: return self.x\n",
    "        elif i in [1, -2]: return self.y\n",
    "        elif i in [2, -1]: return self.z\n",
    "        else: raise IndexError('Index out of range.')\n",
    "            \n",
    "    def __iter__(self):\n",
    "        for i in range(len(self)):\n",
    "            yield self[i]"
   ]
  },
  {
   "cell_type": "markdown",
   "metadata": {
    "slideshow": {
     "slide_type": "subslide"
    }
   },
   "source": [
    "### Vector class\n",
    "* `__repr__()` implements the string representation of an object.\n",
    "* `abs()` is a standard Python function that can be called on any object."
   ]
  },
  {
   "cell_type": "code",
   "execution_count": null,
   "metadata": {},
   "outputs": [],
   "source": [
    "v = Vector(1,2,3)\n",
    "v"
   ]
  },
  {
   "cell_type": "code",
   "execution_count": null,
   "metadata": {},
   "outputs": [],
   "source": [
    "print(v)"
   ]
  },
  {
   "cell_type": "code",
   "execution_count": null,
   "metadata": {},
   "outputs": [],
   "source": [
    "abs(v)"
   ]
  },
  {
   "cell_type": "markdown",
   "metadata": {
    "slideshow": {
     "slide_type": "subslide"
    }
   },
   "source": [
    "### Vector class: Operator overloading\n",
    "* `__add__()` and `__mul__()` are overloaded by the operators `+` and `*`"
   ]
  },
  {
   "cell_type": "code",
   "execution_count": null,
   "metadata": {},
   "outputs": [],
   "source": [
    "v + Vector(2,3,4)"
   ]
  },
  {
   "cell_type": "code",
   "execution_count": null,
   "metadata": {},
   "outputs": [],
   "source": [
    "v * 2"
   ]
  },
  {
   "cell_type": "code",
   "execution_count": null,
   "metadata": {},
   "outputs": [],
   "source": [
    "len(v)"
   ]
  },
  {
   "cell_type": "markdown",
   "metadata": {
    "slideshow": {
     "slide_type": "subslide"
    }
   },
   "source": [
    "### Vector class: Operator overloading\n",
    "* `__getitem__()` is overloaded by index brackets `[]`"
   ]
  },
  {
   "cell_type": "code",
   "execution_count": null,
   "metadata": {},
   "outputs": [],
   "source": [
    "v[0]"
   ]
  },
  {
   "cell_type": "code",
   "execution_count": null,
   "metadata": {},
   "outputs": [],
   "source": [
    "v[-1]"
   ]
  },
  {
   "cell_type": "code",
   "execution_count": null,
   "metadata": {},
   "outputs": [],
   "source": [
    "v[3] # does not work"
   ]
  },
  {
   "cell_type": "markdown",
   "metadata": {
    "slideshow": {
     "slide_type": "slide"
    }
   },
   "source": [
    "## Abstract base classes"
   ]
  },
  {
   "cell_type": "markdown",
   "metadata": {
    "slideshow": {
     "slide_type": "subslide"
    }
   },
   "source": [
    "### Abstract base classes\n",
    "\n",
    "* An abstract base class is a class that itself cannot be intantiated.\n",
    "* Other classes are derived from it. "
   ]
  },
  {
   "cell_type": "code",
   "execution_count": null,
   "metadata": {},
   "outputs": [],
   "source": [
    "from abc import ABC, abstractmethod # package for abstract base classes\n",
    "\n",
    "class FinancialInstrument(ABC):\n",
    "    @abstractmethod\n",
    "    def getPrice(self):\n",
    "        pass\n",
    "\n",
    "class Bond(FinancialInstrument):\n",
    "    def __init__(self, price):\n",
    "        self.__price = price\n",
    "        \n",
    "    def getPrice(self):\n",
    "        return self.__price"
   ]
  },
  {
   "cell_type": "markdown",
   "metadata": {
    "slideshow": {
     "slide_type": "subslide"
    }
   },
   "source": [
    "### Abstract base classes"
   ]
  },
  {
   "cell_type": "code",
   "execution_count": null,
   "metadata": {},
   "outputs": [],
   "source": [
    "fi = FinancialInstrument() # does not work"
   ]
  },
  {
   "cell_type": "code",
   "execution_count": null,
   "metadata": {},
   "outputs": [],
   "source": [
    "bond = Bond(100)\n",
    "bond.getPrice()"
   ]
  }
 ],
 "metadata": {
  "celltoolbar": "Slideshow",
  "hide_code_all_hidden": true,
  "kernelspec": {
   "display_name": "Python 3",
   "language": "python",
   "name": "python3"
  },
  "language_info": {
   "codemirror_mode": {
    "name": "ipython",
    "version": 3
   },
   "file_extension": ".py",
   "mimetype": "text/x-python",
   "name": "python",
   "nbconvert_exporter": "python",
   "pygments_lexer": "ipython3",
   "version": "3.7.0"
  },
  "livereveal": {
   "slideNumber": "c"
  },
  "toc": {
   "base_numbering": "3",
   "nav_menu": {},
   "number_sections": true,
   "sideBar": true,
   "skip_h1_title": false,
   "title_cell": "Table of Contents",
   "title_sidebar": "Contents",
   "toc_cell": false,
   "toc_position": {
    "height": "calc(100% - 180px)",
    "left": "10px",
    "top": "150px",
    "width": "288px"
   },
   "toc_section_display": true,
   "toc_window_display": false
  }
 },
 "nbformat": 4,
 "nbformat_minor": 2
}

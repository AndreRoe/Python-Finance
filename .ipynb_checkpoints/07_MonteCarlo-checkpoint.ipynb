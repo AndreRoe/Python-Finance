{
 "cells": [
  {
   "cell_type": "markdown",
   "metadata": {
    "hideCode": false,
    "hidePrompt": false,
    "slideshow": {
     "slide_type": "slide"
    }
   },
   "source": [
    "<b> \n",
    "    <font size=\"7\">\n",
    "        Computational Finance and FinTech <br><br>\n",
    "        M.Sc. International Finance\n",
    "    </font>\n",
    "</b>\n",
    "<br><br>\n",
    "<img src=\"pics/HWR.png\" width=400px>\n",
    "<br><br>\n",
    "<b>\n",
    "    <font size=\"5\"> \n",
    "        Prof. Dr. Natalie Packham <br>\n",
    "        Berlin School of Economics and Law <br>\n",
    "        Summer Term 2021\n",
    "    </font>\n",
    "</b>"
   ]
  },
  {
   "cell_type": "markdown",
   "metadata": {
    "hideCode": false,
    "hideOutput": false,
    "hidePrompt": false,
    "slideshow": {
     "slide_type": "slide"
    }
   },
   "source": [
    "<h1>Table of Contents<span class=\"tocSkip\"></span></h1>\n",
    "<div class=\"toc\"><ul class=\"toc-item\"><li><span><a href=\"#Probabilities-and-Monte-Carlo-simulation\" data-toc-modified-id=\"Probabilities-and-Monte-Carlo-simulation-7\"><span class=\"toc-item-num\">7&nbsp;&nbsp;</span>Probabilities and Monte Carlo simulation</a></span><ul class=\"toc-item\"><li><span><a href=\"#Random-numbers\" data-toc-modified-id=\"Random-numbers-7.1\"><span class=\"toc-item-num\">7.1&nbsp;&nbsp;</span>Random numbers</a></span></li><li><span><a href=\"#Monte-Carlo-Simulation\" data-toc-modified-id=\"Monte-Carlo-Simulation-7.2\"><span class=\"toc-item-num\">7.2&nbsp;&nbsp;</span>Monte Carlo Simulation</a></span></li><li><span><a href=\"#Option-pricing\" data-toc-modified-id=\"Option-pricing-7.3\"><span class=\"toc-item-num\">7.3&nbsp;&nbsp;</span>Option pricing</a></span></li><li><span><a href=\"#Path-dependent-options\" data-toc-modified-id=\"Path-dependent-options-7.4\"><span class=\"toc-item-num\">7.4&nbsp;&nbsp;</span>Path-dependent options</a></span></li></ul></li></ul></div>"
   ]
  },
  {
   "cell_type": "markdown",
   "metadata": {
    "hideCode": false,
    "hidePrompt": false,
    "slideshow": {
     "slide_type": "slide"
    }
   },
   "source": [
    "# Probabilities and Monte Carlo simulation"
   ]
  },
  {
   "cell_type": "markdown",
   "metadata": {
    "hideCode": false,
    "hidePrompt": false,
    "slideshow": {
     "slide_type": "-"
    }
   },
   "source": [
    "* Further reading: __Py4Fi, Chapter 12__\n",
    "* This session also covers material not in __Py4Fi__.\n",
    "* Uncertainty about outcomes lies at the heart of many financial applications.\n",
    "* By quantifying the uncertainty in terms of probabilities we can price derivatives and measure risk."
   ]
  },
  {
   "cell_type": "markdown",
   "metadata": {
    "hideCode": false,
    "hidePrompt": false,
    "slideshow": {
     "slide_type": "subslide"
    }
   },
   "source": [
    "### Some general imports\n",
    "\n",
    "* `numpy.random` is the random number generation subpackage of `numpy`."
   ]
  },
  {
   "cell_type": "code",
   "execution_count": 14,
   "metadata": {
    "hideCode": false,
    "hidePrompt": false
   },
   "outputs": [],
   "source": [
    "import math\n",
    "import numpy as np\n",
    "import numpy.random as npr  \n",
    "from pylab import plt, mpl\n",
    "import scipy.stats as scs"
   ]
  },
  {
   "cell_type": "code",
   "execution_count": 15,
   "metadata": {
    "hideCode": false,
    "hidePrompt": false
   },
   "outputs": [],
   "source": [
    "plt.style.use('seaborn')\n",
    "%matplotlib inline"
   ]
  },
  {
   "cell_type": "markdown",
   "metadata": {
    "hideCode": false,
    "hidePrompt": false,
    "slideshow": {
     "slide_type": "slide"
    }
   },
   "source": [
    "## Random numbers\n",
    "\n",
    "* A random number generator generates so-called __pseudo-random numbers__. \n",
    "* Despite being deterministic, they resemble random numbers by replicating their statistical properties.\n",
    "* The `seed` is the starting point from which a sequence of random numbers are generated. \n",
    "* Fixing the seed allows to reproduce a sequence of random numbers, which is useful for development and debugging. \n",
    "* If no seed is fixed, then this is usually set internally to a number derived from the current timestamp."
   ]
  },
  {
   "cell_type": "code",
   "execution_count": 16,
   "metadata": {
    "hideCode": false,
    "hidePrompt": false
   },
   "outputs": [],
   "source": [
    "npr.seed(100)  \n",
    "np.set_printoptions(precision=4) "
   ]
  },
  {
   "cell_type": "markdown",
   "metadata": {
    "hideCode": false,
    "hidePrompt": false,
    "slideshow": {
     "slide_type": "subslide"
    }
   },
   "source": [
    "### Random numbers\n",
    "\n",
    "* `rand` generates random numbers of the uniform distribution spanning the $[0,1]$ interval."
   ]
  },
  {
   "cell_type": "code",
   "execution_count": 17,
   "metadata": {
    "hideCode": false,
    "hidePrompt": false
   },
   "outputs": [
    {
     "data": {
      "text/plain": [
       "array([0.5434, 0.2784, 0.4245, 0.8448, 0.0047, 0.1216, 0.6707, 0.8259,\n",
       "       0.1367, 0.5751])"
      ]
     },
     "execution_count": 17,
     "metadata": {},
     "output_type": "execute_result"
    }
   ],
   "source": [
    "npr.rand(10)  "
   ]
  },
  {
   "cell_type": "code",
   "execution_count": 18,
   "metadata": {
    "hideCode": false,
    "hidePrompt": false
   },
   "outputs": [
    {
     "data": {
      "text/plain": [
       "array([[0.8913, 0.2092, 0.1853, 0.1084, 0.2197],\n",
       "       [0.9786, 0.8117, 0.1719, 0.8162, 0.2741],\n",
       "       [0.4317, 0.94  , 0.8176, 0.3361, 0.1754],\n",
       "       [0.3728, 0.0057, 0.2524, 0.7957, 0.0153],\n",
       "       [0.5988, 0.6038, 0.1051, 0.3819, 0.0365]])"
      ]
     },
     "execution_count": 18,
     "metadata": {},
     "output_type": "execute_result"
    }
   ],
   "source": [
    "npr.rand(5, 5)  "
   ]
  },
  {
   "cell_type": "markdown",
   "metadata": {
    "hideCode": false,
    "hidePrompt": false,
    "slideshow": {
     "slide_type": "subslide"
    }
   },
   "source": [
    "### Random numbers\n",
    "\n",
    "* Functions for simple random number generations: \n",
    "\n",
    "![Random number generation](pics/rand.png)\n",
    "\n",
    "\n",
    "<div align=\"right\" style=\"font-size:14px\">Source: Python for Finance, 2nd ed.</div>"
   ]
  },
  {
   "cell_type": "markdown",
   "metadata": {
    "hideCode": false,
    "hidePrompt": false,
    "slideshow": {
     "slide_type": "subslide"
    }
   },
   "source": [
    "### Histogram\n",
    "\n",
    "* Use `hist` to plot histograms:"
   ]
  },
  {
   "cell_type": "code",
   "execution_count": 19,
   "metadata": {
    "hideCode": false,
    "hidePrompt": false
   },
   "outputs": [],
   "source": [
    "sample_size = 500\n",
    "rn1 = npr.rand(sample_size, 3)  # 3-dimensional array of 500 uniform random numbers each\n",
    "rn2 = npr.randint(0, 10, sample_size)  # random integers\n",
    "rn3 = npr.sample(size=sample_size)  # another way of drawing uniforms\n",
    "a = [0, 25, 50, 75, 100]  \n",
    "rn4 = npr.choice(a, size=sample_size) # drawing from a given distribution"
   ]
  },
  {
   "cell_type": "markdown",
   "metadata": {
    "hideCode": false,
    "hidePrompt": false,
    "slideshow": {
     "slide_type": "subslide"
    }
   },
   "source": [
    "### Histogram"
   ]
  },
  {
   "cell_type": "code",
   "execution_count": 20,
   "metadata": {
    "hideCode": false,
    "hidePrompt": false
   },
   "outputs": [
    {
     "data": {
      "image/png": "[encoded data removed]",
      "text/plain": [
       "<Figure size 504x360 with 4 Axes>"
      ]
     },
     "metadata": {
      "needs_background": "light"
     },
     "output_type": "display_data"
    }
   ],
   "source": [
    "fig, ((ax1, ax2), (ax3, ax4)) = plt.subplots(nrows=2, ncols=2,\n",
    "                                             figsize=(7, 5))\n",
    "ax1.hist(rn1, bins=25, stacked=True) # create a histogram with 25 bins\n",
    "ax1.set_title('rand')\n",
    "ax1.set_ylabel('frequency')\n",
    "ax2.hist(rn2, bins=25)\n",
    "ax2.set_title('randint')\n",
    "ax3.hist(rn3, bins=25)\n",
    "ax3.set_title('sample')\n",
    "ax3.set_ylabel('frequency')\n",
    "ax4.hist(rn4, bins=25)\n",
    "ax4.set_title('choice');"
   ]
  },
  {
   "cell_type": "markdown",
   "metadata": {
    "hideCode": false,
    "hidePrompt": false,
    "slideshow": {
     "slide_type": "subslide"
    }
   },
   "source": [
    "### Distributions\n",
    "\n",
    "|Function | Description|\n",
    "|---------|------------|\n",
    "|`binomial(n,p[,size])` | Draw samples from a binomial distribution|\n",
    "|`exponential([scale, size])`| Draw samples from an exponential distribution|\n",
    "|`lognormal([mean, sigma, size])`| Draw samples from a log-normal distribution|\n",
    "|`multivariate_normal(mean, cov[, size, ...)`| Draw random samples from a multivariate normal distribution|\n",
    "|`normal([loc, scale, size])`| Draw random samples from a normal (Gaussian) distribution|\n",
    "|`standard_normal([size])` |Draw samples from a standard Normal distribution (mean=0, stdev=1)|\n",
    "|`standard_t(df[, size])` |Draw samples from a standard Student’s t distribution with df degrees of freedom|\n",
    "\n",
    "* More functions and distributions are documented [scipy.org](https://docs.scipy.org/doc/numpy-1.13.0/reference/routines.random.html)."
   ]
  },
  {
   "cell_type": "markdown",
   "metadata": {
    "hideCode": false,
    "hidePrompt": false,
    "slideshow": {
     "slide_type": "subslide"
    }
   },
   "source": [
    "### Distributions\n",
    "\n",
    "* Generate random numbers from various distributions and plot their histograms."
   ]
  },
  {
   "cell_type": "code",
   "execution_count": 21,
   "metadata": {
    "hideCode": false,
    "hidePrompt": false
   },
   "outputs": [],
   "source": [
    "sample_size = 500\n",
    "rn1 = npr.standard_normal(sample_size)  \n",
    "rn2 = npr.normal(100, 20, sample_size)  \n",
    "rn3 = npr.chisquare(df=0.5, size=sample_size)  \n",
    "rn4 = npr.poisson(lam=1.0, size=sample_size)  "
   ]
  },
  {
   "cell_type": "markdown",
   "metadata": {
    "hideCode": false,
    "hidePrompt": false,
    "slideshow": {
     "slide_type": "subslide"
    }
   },
   "source": [
    "### Distributions"
   ]
  },
  {
   "cell_type": "code",
   "execution_count": 22,
   "metadata": {
    "hideCode": false,
    "hidePrompt": false
   },
   "outputs": [
    {
     "data": {
      "image/png": "[encoded data removed]",
      "text/plain": [
       "<Figure size 504x360 with 4 Axes>"
      ]
     },
     "metadata": {
      "needs_background": "light"
     },
     "output_type": "display_data"
    }
   ],
   "source": [
    "fig, ((ax1, ax2), (ax3, ax4)) = plt.subplots(nrows=2, ncols=2,\n",
    "                                             figsize=(7, 5))\n",
    "ax1.hist(rn1, bins=25)\n",
    "ax1.set_title('standard normal')\n",
    "ax1.set_ylabel('frequency')\n",
    "ax2.hist(rn2, bins=25)\n",
    "ax2.set_title('normal(100, 20)')\n",
    "ax3.hist(rn3, bins=25)\n",
    "ax3.set_title('chi square')\n",
    "ax3.set_ylabel('frequency')\n",
    "ax4.hist(rn4, bins=25)\n",
    "ax4.set_title('Poisson');"
   ]
  },
  {
   "cell_type": "markdown",
   "metadata": {
    "hideCode": false,
    "hidePrompt": false,
    "slideshow": {
     "slide_type": "slide"
    }
   },
   "source": [
    "## Monte Carlo Simulation\n",
    "\n",
    "* __Monte Carlo simulation__ is a powerful tool for the numerical computation of expectations and other statistics. \n",
    "* Monte Carlo simulation refers to the simulation of (independent) samples of a random variable $Z$ using computer-generated random numbers.\n",
    "* Once sufficiently many random numbers have been drawn, these can be used to produce an __estimate__ of some quantity that depends on the distribution of $Z$.\n",
    "* The quality of an estimate can be quantified by a __confidence interval__ around the estimate.\n",
    "* A comprehensive resource is\n",
    "\n",
    "    Paul Glasserman.  *Monte Carlo Methods in Financial Engineering*.  Springer, 2004.\n"
   ]
  },
  {
   "cell_type": "markdown",
   "metadata": {
    "hideCode": false,
    "hidePrompt": false,
    "slideshow": {
     "slide_type": "subslide"
    }
   },
   "source": [
    "### Monte Carlo simulation\n",
    "* To fix ideas consider the problem of estimating the integral of a function $f$ over the unit interval:\n",
    "  \\begin{equation*}\n",
    "  \\alpha = \\int_0^1 f(x)\\, d x. \n",
    "  \\end{equation*}\n",
    "* We may write\n",
    "  \\begin{equation*}\n",
    "  \\alpha=\\mathbb E[f(U)], \n",
    "  \\end{equation*}\n",
    "  with $U$ uniformly distributed between $0$ and $1$. "
   ]
  },
  {
   "cell_type": "markdown",
   "metadata": {
    "hideCode": false,
    "hidePrompt": false,
    "slideshow": {
     "slide_type": "subslide"
    }
   },
   "source": [
    "### Monte Carlo simulation\n",
    "* Drawing points $u_1,u_2,\\ldots, u_n$ independently and uniformly from $[0,1]$, the Monte Carlo estimate is given by \n",
    "  \\begin{equation*}\n",
    "  \\hat\\alpha_n = \\frac{1}{n} \\sum_{i=1}^n f(u_i). \n",
    "  \\end{equation*}\n",
    "* If $f$ is integrable over $[0,1]$ then, by the __strong law of large numbers__,\n",
    "  \\begin{equation*}\n",
    "  \\hat \\alpha_n\\rightarrow \\alpha \\text{ with probability } 1, \\text{ as } n\\rightarrow\\infty. \n",
    "  \\end{equation*}"
   ]
  },
  {
   "cell_type": "markdown",
   "metadata": {
    "hideCode": false,
    "hidePrompt": false,
    "slideshow": {
     "slide_type": "subslide"
    }
   },
   "source": [
    "__Monte Carlo simulation__\n",
    "\n",
    "* If $f$ is square integrable, and setting,\n",
    "  \\begin{equation*}\n",
    "  \\sigma_f^2 = \\int_0^1 (f(x)-\\alpha)^2\\, d x,\n",
    "  \\end{equation*}\n",
    "  then, by the __central limit theorem__, the error $\\hat\\alpha_n-\\alpha$ is approximately normally distributed with mean $0$ and standard deviation $\\sigma_f/\\sqrt{n}$. \n",
    "* $\\sigma_f$ is typically unknown, but can be estimated by the  sample standard deviation \n",
    "  \\begin{equation*}\n",
    "  s_f = \\sqrt{\\frac{1}{n-1} \\sum_{i=1}^n (f(u_i)-\\hat\\alpha_n)^2}. \n",
    "  \\end{equation*}"
   ]
  },
  {
   "cell_type": "markdown",
   "metadata": {
    "hideCode": false,
    "hidePrompt": false,
    "slideshow": {
     "slide_type": "subslide"
    }
   },
   "source": [
    "### Monte Carlo simulation\n",
    "\n",
    "* Thus, an (asymptotically) valid $1-\\delta$ confidence interval for $\\alpha$ is given by\n",
    "  \\begin{equation*}\n",
    "  \\left[\\hat\\alpha_n- \\mathrm{N}_{1-\\delta/2} \\frac{s_f}{\\sqrt{n}}\\,\\,,\\,\\, \\hat\\alpha_n+ \\mathrm{N}_{1-\\delta/2} \\frac{s_f}{\\sqrt{n}}\\right],\n",
    "  \\end{equation*}\n",
    "where $\\mathrm{N}_{1-\\delta/2}$ denotes the $1-\\delta/2$ quantile of the standard normal distribution. \n",
    "* For example, for $1-\\delta=0.95$: $\\mathrm{N}_{1-\\delta/2} =  \\mathrm{N}_{0.975} \\approx 1.96$. "
   ]
  },
  {
   "cell_type": "markdown",
   "metadata": {
    "hideCode": false,
    "hidePrompt": false,
    "slideshow": {
     "slide_type": "subslide"
    }
   },
   "source": [
    "### Monte Carlo simulation\n",
    "* Thus, from the function value $f(u_1), \\ldots, f(u_n)$ we obtain\n",
    "    * an estimate of the integral $\\alpha$,\n",
    "    * and a measure of the error of the estimate.\n",
    "* The form of the standard error $\\sigma_f/\\sqrt{n}$ implies:\n",
    "    * to cut the error in half requires increasing the sample size by four;\n",
    "    * adding one decimal point of precision requires $100$ times as many points. \n",
    "* Monte Carlo simulation it particularly well suited for high-dimensional applications, that is, when integrating over $[0,1]^d$, $d\\geq 1$. "
   ]
  },
  {
   "cell_type": "markdown",
   "metadata": {
    "hideCode": false,
    "hidePrompt": false,
    "slideshow": {
     "slide_type": "subslide"
    }
   },
   "source": [
    "### Monte Carlo simulation - Example 1\n",
    "* We use Monte Carlo simulation to estimate the integral $\\int_0^1 (2\\sin(15 x) + 15 x)\\, d x$.\n",
    "* The solution, calculated analytically, is $\\displaystyle\\frac{1}{30} \\left(229-4 \\cos(15)\\right)=7.7346$.  "
   ]
  },
  {
   "cell_type": "code",
   "execution_count": 23,
   "metadata": {
    "hideCode": false,
    "hidePrompt": false
   },
   "outputs": [
    {
     "data": {
      "image/png": "[encoded data removed]",
      "text/plain": [
       "<Figure size 432x288 with 1 Axes>"
      ]
     },
     "metadata": {
      "needs_background": "light"
     },
     "output_type": "display_data"
    }
   ],
   "source": [
    "x = np.linspace(0,1,100)\n",
    "y = 2 * np.sin(15*x) + 15*x\n",
    "plt.plot(x,y)\n",
    "plt.fill_between(x, y, alpha=0.3);\n",
    "plt.xlabel('$x$');\n",
    "plt.ylabel('$2 \\sin(15x) + 15x$');"
   ]
  },
  {
   "cell_type": "markdown",
   "metadata": {
    "hideCode": false,
    "hidePrompt": false,
    "slideshow": {
     "slide_type": "subslide"
    }
   },
   "source": [
    "### Monte Carlo simulation - Example 1"
   ]
  },
  {
   "cell_type": "code",
   "execution_count": 24,
   "metadata": {
    "hideCode": false,
    "hidePrompt": false
   },
   "outputs": [],
   "source": [
    "n = 100000\n",
    "z = npr.uniform(0, 1, n)\n",
    "y = 2 * np.sin(15 * z) + 15 * z"
   ]
  },
  {
   "cell_type": "code",
   "execution_count": 25,
   "metadata": {
    "hideCode": false,
    "hidePrompt": false
   },
   "outputs": [],
   "source": [
    "y_m = []\n",
    "y_cfl = []\n",
    "y_cfu = []\n",
    "for i in range(1000, n+1, 1000):\n",
    "    y_m.append(np.mean(y[:i]))\n",
    "    y_cfl.append(np.mean(y[:i] - 1.96 * np.std(y[:i])/np.sqrt(i)))    \n",
    "    y_cfu.append(np.mean(y[:i] + 1.96 * np.std(y[:i])/np.sqrt(i)))"
   ]
  },
  {
   "cell_type": "markdown",
   "metadata": {
    "hideCode": false,
    "hidePrompt": false,
    "slideshow": {
     "slide_type": "subslide"
    }
   },
   "source": [
    "### Monte Carlo simulation - Example 1"
   ]
  },
  {
   "cell_type": "code",
   "execution_count": 26,
   "metadata": {
    "hideCode": false,
    "hidePrompt": false
   },
   "outputs": [
    {
     "data": {
      "image/png": "[encoded data removed]",
      "text/plain": [
       "<Figure size 432x288 with 1 Axes>"
      ]
     },
     "metadata": {
      "needs_background": "light"
     },
     "output_type": "display_data"
    }
   ],
   "source": [
    "plt.plot( [0,n], [7.73463,7.73463], 'r', range(1000,n+1,1000), y_m, 'b', \\\n",
    "         range(1000,n+1,1000), y_cfl, 'g', range(1000,n+1,1000), y_cfu, 'g');\n",
    "plt.xlabel('number of simulations');\n",
    "plt.ylabel('estimates');"
   ]
  },
  {
   "cell_type": "markdown",
   "metadata": {
    "hideCode": false,
    "hidePrompt": false,
    "slideshow": {
     "slide_type": "subslide"
    }
   },
   "source": [
    "### Monte Carlo simulation - Example 2\n",
    "* We calculate the area of a circle, given by \n",
    "  \\begin{equation*}\n",
    "  \\iint_{[-1,1]^2} \\mathbf{1}_{\\{u^2+v^2\\leq 1\\}}\\, d u\\, d v = \\pi=3.14159. \n",
    "  \\end{equation*}\n",
    "* In a Monte Carlo simulation, we sample random numbers $u_1, \\ldots, u_n$ and $v_1,\\ldots, v_n$, each uniformly from $[-1,1]$. \n",
    "* Then, we count the number of samples that fulfill $u_k^2 + v_k^2\\leq 1$, $k=1,\\ldots, n$. \n",
    "* The fraction of such samples will be near $\\pi/4$. \n",
    "* Given that $[-1,1]^2$ has area $4$, we obtain a result near $\\pi$. "
   ]
  },
  {
   "cell_type": "markdown",
   "metadata": {
    "hideCode": false,
    "hidePrompt": false,
    "slideshow": {
     "slide_type": "subslide"
    }
   },
   "source": [
    "### Monte Carlo simulation - Example 2\n",
    "* The plot below shows the unit circle (a circle with radius 1) and the \"pie\" of the cirle on the $[0,1]$ interval:"
   ]
  },
  {
   "cell_type": "code",
   "execution_count": 27,
   "metadata": {
    "hideCode": false,
    "hidePrompt": false
   },
   "outputs": [
    {
     "data": {
      "image/png": "[encoded data removed]",
      "text/plain": [
       "<Figure size 360x360 with 1 Axes>"
      ]
     },
     "metadata": {
      "needs_background": "light"
     },
     "output_type": "display_data"
    }
   ],
   "source": [
    "plt.figure(figsize=(5,5))\n",
    "u = np.arange(-1,1,0.0001)\n",
    "v = np.sqrt(1-u*u)\n",
    "plt.plot(u,v, 'b')\n",
    "plt.plot(u,-v,'b')\n",
    "plt.plot([0,0,1,1,0], [1,0,0,1,1], 'r')\n",
    "plt.xlabel('u')\n",
    "plt.ylabel('v');"
   ]
  },
  {
   "cell_type": "markdown",
   "metadata": {
    "hideCode": false,
    "hidePrompt": false,
    "slideshow": {
     "slide_type": "subslide"
    }
   },
   "source": [
    "### Monte Carlo simulation - Example 2\n",
    "* The following code performs the Monte Carlo simulation on the \"quarter\" $[0,1]$. \n",
    "* The simulation below tests if a pair of independent uniformly distributed random numbers on $[0,1]$ lies in the \"pie\"\n",
    "* Multiplying the fraction of theses pairs by 4 gives an estimate of the area of the cirle:"
   ]
  },
  {
   "cell_type": "code",
   "execution_count": 28,
   "metadata": {
    "hideCode": false,
    "hidePrompt": false
   },
   "outputs": [],
   "source": [
    "n = 100000\n",
    "x = npr.uniform(0, 1, (n,2))\n",
    "y = list(map(lambda u: (4 if u[0]**2 + u[1]**2 <1 else 0), x))"
   ]
  },
  {
   "cell_type": "markdown",
   "metadata": {
    "hideCode": false,
    "hidePrompt": false
   },
   "source": [
    "* The code contains two short-hand constructions that we look at below. "
   ]
  },
  {
   "cell_type": "markdown",
   "metadata": {
    "hideCode": false,
    "hidePrompt": false,
    "slideshow": {
     "slide_type": "subslide"
    }
   },
   "source": [
    "### Lambda functions\n",
    "* The code contains two short-hand constructions:\n",
    "    * `lambda arguments: expression` is short-hand for so-called lambda functions.\n",
    "    * Functions that consist of only one expression can be defined in this short-hand way.\n",
    "    * For example, the two function definitions below are equivalent:"
   ]
  },
  {
   "cell_type": "code",
   "execution_count": 29,
   "metadata": {
    "hideCode": false,
    "hidePrompt": false
   },
   "outputs": [
    {
     "name": "stdout",
     "output_type": "stream",
     "text": [
      "15\n"
     ]
    }
   ],
   "source": [
    "x = lambda a : a + 10\n",
    "print(x(5))"
   ]
  },
  {
   "cell_type": "code",
   "execution_count": 30,
   "metadata": {
    "hideCode": false,
    "hidePrompt": false
   },
   "outputs": [
    {
     "name": "stdout",
     "output_type": "stream",
     "text": [
      "15\n"
     ]
    }
   ],
   "source": [
    "def x(a):\n",
    "    return a + 10\n",
    "\n",
    "print(x(5))"
   ]
  },
  {
   "cell_type": "markdown",
   "metadata": {
    "hideCode": false,
    "hidePrompt": false,
    "slideshow": {
     "slide_type": "subslide"
    }
   },
   "source": [
    "### Short-hand for  `if... else... `\n",
    "The code `4 if u[0]**2 + u[1]**2<1 else 0` is short-hand for \n",
    "\n",
    "```python\n",
    "if u[0]**2 + u[1]**2 < 1:\n",
    "    4\n",
    "else:\n",
    "    0\n",
    "```"
   ]
  },
  {
   "cell_type": "markdown",
   "metadata": {
    "hideCode": false,
    "hidePrompt": false,
    "slideshow": {
     "slide_type": "subslide"
    }
   },
   "source": [
    "### Monte Carlo simulation - Example 2 continued"
   ]
  },
  {
   "cell_type": "code",
   "execution_count": 31,
   "metadata": {
    "hideCode": false,
    "hidePrompt": false
   },
   "outputs": [],
   "source": [
    "y_m = []\n",
    "y_cfl = []\n",
    "y_cfu = []\n",
    "for i in range(1000, n+1, 1000):\n",
    "    y_m.append(np.mean(y[:i]))\n",
    "    y_cfl.append(np.mean(y[:i] - 1.96 * np.std(y[:i])/np.sqrt(i)))    \n",
    "    y_cfu.append(np.mean(y[:i] + 1.96 * np.std(y[:i])/np.sqrt(i)))"
   ]
  },
  {
   "cell_type": "code",
   "execution_count": 32,
   "metadata": {
    "hideCode": false,
    "hidePrompt": false
   },
   "outputs": [
    {
     "data": {
      "image/png": "[encoded data removed]",
      "text/plain": [
       "<Figure size 432x288 with 1 Axes>"
      ]
     },
     "metadata": {
      "needs_background": "light"
     },
     "output_type": "display_data"
    }
   ],
   "source": [
    "plt.plot( [0,n], [np.pi,np.pi], 'r', range(1000,n+1,1000), y_m, 'b', \\\n",
    "         range(1000,n+1,1000), y_cfl, 'g', range(1000,n+1,1000), y_cfu, 'g');\n",
    "plt.xlabel('number of simulations');\n",
    "plt.ylabel('estimates');"
   ]
  },
  {
   "cell_type": "markdown",
   "metadata": {
    "hideCode": false,
    "hidePrompt": false,
    "slideshow": {
     "slide_type": "slide"
    }
   },
   "source": [
    "## Option pricing"
   ]
  },
  {
   "cell_type": "markdown",
   "metadata": {
    "hideCode": false,
    "hidePrompt": false,
    "slideshow": {
     "slide_type": "subslide"
    }
   },
   "source": [
    "### Option pricing with Monte Carlo simulation\n",
    "* Recall: by risk-neutral pricing, the value of a contingent claim with payoff $X=\\Phi(S_T)$ is given by\n",
    "  \\begin{equation*}\n",
    "  e^{-rT} \\mathbb{E}^\\mathbb{Q}[X],\n",
    "  \\end{equation*}\n",
    "  where $\\mathbb{Q}$ is the risk-neutral measure.\n",
    "* Under $\\mathbb{Q}$, the bond and stock prices at time $T$ are given by\n",
    "  \\begin{align*}\n",
    "  B_T&= B_0 \\,e^{rT}\\\\\n",
    "  S_T&= S_0\\, \\exp\\left((r-1/2\\sigma^2)T + \\sigma W_T\\right),\n",
    "  \\end{align*}\n",
    "  with $W_T\\sim\\mathrm{N}(0,T)$. "
   ]
  },
  {
   "cell_type": "markdown",
   "metadata": {
    "hideCode": false,
    "hidePrompt": false,
    "slideshow": {
     "slide_type": "subslide"
    }
   },
   "source": [
    "### Option pricing with Monte Carlo simulation\n",
    "* The following graph shows a histogram of 5000 simulated stock prices $S_T$ with parameters $S_0=100$, $\\sigma=0.2$, $T=1$, $r=0.05$. \n",
    "* The red line is the density of $S_T$."
   ]
  },
  {
   "cell_type": "code",
   "execution_count": 33,
   "metadata": {
    "hideCode": false,
    "hidePrompt": false
   },
   "outputs": [
    {
     "data": {
      "image/png": "[encoded data removed]",
      "text/plain": [
       "<Figure size 432x288 with 1 Axes>"
      ]
     },
     "metadata": {
      "needs_background": "light"
     },
     "output_type": "display_data"
    }
   ],
   "source": [
    "x = np.arange(0,200,1)\n",
    "w = npr.standard_normal(5000)\n",
    "s = 100 * np.exp((0.05 - 0.5 * 0.2**2) * 1 + 0.2 * w)\n",
    "plt.hist(s, bins=20,density=True);\n",
    "plt.plot(x, scs.lognorm.pdf(x, s=0.2, scale=np.exp(np.log(100) + 0.05 - 0.5 * 0.2**2)), 'r');"
   ]
  },
  {
   "cell_type": "markdown",
   "metadata": {
    "hideCode": false,
    "hidePrompt": false,
    "slideshow": {
     "slide_type": "subslide"
    }
   },
   "source": [
    "### Option pricing with Monte Carlo simulation\n",
    "* $e^{-rT} \\mathbb{E}^\\mathbb{Q}[X]$ is estimated using the following algorithm:\n",
    "    * Generate uniformly distributed random numbers $u_1,\\ldots, u_n$. \n",
    "    * Transform them to normally distributed random numbers by applying the inverse standard normal distribution function:    $\\mathrm{N}^{(-1)}(u_1), \\ldots, \\mathrm{N}^{(-1)}(u_n)$.\n",
    "    * Set $S_{T,i} = S_0 \\exp\\left((r-1/2\\sigma^2)T + \\sigma \\sqrt{T} \\mathrm{N}^{(-1)}(u_i)\\right)$. \n",
    "    * Set $X_i=\\Phi(S_{T,i})$. \n",
    "    * Set $\\text{Simulated Price}_n = e^{-rT} (X_1+\\cdots+X_n)/n$. "
   ]
  },
  {
   "cell_type": "markdown",
   "metadata": {
    "hideCode": false,
    "hidePrompt": false,
    "slideshow": {
     "slide_type": "subslide"
    }
   },
   "source": [
    "### Option pricing with Monte Carlo simulation\n",
    "* For any $n\\geq 1$, the estimated price is __unbiased__, that is,\n",
    "  \\begin{equation*}\n",
    "  \\mathbb{E}^{\\mathbb Q}[\\text{Simulated Price}_n] = \\text{Price} = e^{-rT} \\mathbb{E}^\\mathbb{Q}[X]. \n",
    "  \\end{equation*}\n",
    "* The estimator is **strongly consistent**, that is,\n",
    "  \\begin{equation*}\n",
    "  \\text{Simulated Price}_n \\rightarrow \\text{Price}, \\text{ as } n\\rightarrow\\infty. \n",
    "  \\end{equation*}"
   ]
  },
  {
   "cell_type": "markdown",
   "metadata": {
    "hideCode": false,
    "hidePrompt": false,
    "slideshow": {
     "slide_type": "subslide"
    }
   },
   "source": [
    "### Option pricing with Monte Carlo simulation\n",
    "* Example: Call option: \n",
    "* We set $X=\\Phi(S_T)=(S_T-K)^+$. \n",
    "* The Black-Scholes model and option parameters are $S_0=100$, $K=100$, $T=1$, $\\sigma=0.2$, $r=0.05$. \n",
    "* The Black-Scholes call option price is given by $\\text{Price} = 10.4506$.  "
   ]
  },
  {
   "cell_type": "markdown",
   "metadata": {
    "hideCode": false,
    "hidePrompt": false,
    "slideshow": {
     "slide_type": "subslide"
    }
   },
   "source": [
    "### Option pricing with Monte Carlo simulation\n",
    "* Monte Carlo simulation code:"
   ]
  },
  {
   "cell_type": "code",
   "execution_count": 34,
   "metadata": {
    "hideCode": false,
    "hidePrompt": false
   },
   "outputs": [],
   "source": [
    "w = npr.standard_normal(n)\n",
    "s = 100 * np.exp((0.05 - 0.5 * 0.2**2) * 1 + 0.2 * w)\n",
    "y = np.exp(-0.05*1) * np.maximum(s-100,0) # np.maximum is an element-wise maximum operation"
   ]
  },
  {
   "cell_type": "code",
   "execution_count": 35,
   "metadata": {
    "hideCode": false,
    "hidePrompt": false
   },
   "outputs": [],
   "source": [
    "y_m = []\n",
    "y_cfl = []\n",
    "y_cfu = []\n",
    "for i in range(1000, n+1, 1000):\n",
    "    y_m.append(np.mean(y[:i]))\n",
    "    y_cfl.append(np.mean(y[:i] - 1.96 * np.std(y[:i])/np.sqrt(i)))    \n",
    "    y_cfu.append(np.mean(y[:i] + 1.96 * np.std(y[:i])/np.sqrt(i)))"
   ]
  },
  {
   "cell_type": "markdown",
   "metadata": {
    "hideCode": false,
    "hidePrompt": false,
    "slideshow": {
     "slide_type": "subslide"
    }
   },
   "source": [
    "### Option pricing with Monte Carlo simulation\n",
    "* Simulated option price (solid line) with 95% confidence intervals (green) and target (red line):"
   ]
  },
  {
   "cell_type": "code",
   "execution_count": 36,
   "metadata": {
    "hideCode": false,
    "hidePrompt": false
   },
   "outputs": [
    {
     "data": {
      "image/png": "[encoded data removed]",
      "text/plain": [
       "<Figure size 432x288 with 1 Axes>"
      ]
     },
     "metadata": {
      "needs_background": "light"
     },
     "output_type": "display_data"
    }
   ],
   "source": [
    "plt.plot( [0,n], [10.4506, 10.4506], 'r', range(1000,n+1,1000), y_m, 'b', \\\n",
    "         range(1000,n+1,1000), y_cfl, 'g', range(1000,n+1,1000), y_cfu, 'g');\n",
    "plt.xlabel('number of simulations');\n",
    "plt.ylabel('estimates');"
   ]
  },
  {
   "cell_type": "markdown",
   "metadata": {
    "hideCode": false,
    "hidePrompt": false,
    "slideshow": {
     "slide_type": "slide"
    }
   },
   "source": [
    "## Path-dependent options\n",
    "* Valuing path-dependent options requires simulating whole sample paths.\n",
    "* Depending on the payoff a **discretisation error** is introduced leading to **bias** in the value of the option."
   ]
  },
  {
   "cell_type": "markdown",
   "metadata": {
    "hideCode": false,
    "hidePrompt": false,
    "slideshow": {
     "slide_type": "subslide"
    }
   },
   "source": [
    "### Path-dependent options\n",
    "\n",
    "* Example: Asian option with discrete monitoring\n",
    "* The payoff of an Asian option depends on the average level of the underlying asset, e.g.\n",
    "  \\begin{equation*}\n",
    "  \\overline S = \\frac{1}{m} \\sum_{j=1}^m S_{t_j},\n",
    "  \\end{equation*}\n",
    "  for some fixed dates $0=t_0<t_1<\\cdots<t_m=T$. \n",
    "* Calculating $e^{-rT} \\mathbb{E}^\\mathbb{Q}[(\\overline S-K)^+]$ requires samples of the average $\\overline S$. \n",
    "* This is achieved by simulating the path $S_{t_1}, \\ldots, S_{t_m}$ via\n",
    "  \\begin{equation*}\n",
    "  S_{t_{j+1}} = S_{t_j} \\exp\\left((r-1/2\\sigma^2) (t_{j+1}-t_j) + \\sigma\\sqrt{t_{j+1}-t_j} Z_{j+1}\\right),\n",
    "  \\end{equation*}\n",
    "  where $Z_1,\\ldots, Z_m$ are independent $\\mathrm{N}(0,1)$ random variables. "
   ]
  },
  {
   "cell_type": "markdown",
   "metadata": {
    "hideCode": true,
    "hidePrompt": true,
    "slideshow": {
     "slide_type": "subslide"
    }
   },
   "source": [
    "### Asian option (cont'd)\n",
    "* As a concrete example, consider the following setup:\n",
    "    * $S_0=100$\n",
    "    * $\\sigma=0.2$\n",
    "    * $r=0.05$\n",
    "    * $K=100$\n",
    "    * $T=1$\n",
    "    * discrete monitoring; every month\n",
    "* The payoff is thus\n",
    "  \\begin{equation*}\n",
    "  \\left(\\sum_{k=1}^{12} S_{k/12}-K\\right)^+\n",
    "  \\end{equation*}"
   ]
  },
  {
   "cell_type": "markdown",
   "metadata": {
    "hideCode": false,
    "hidePrompt": false,
    "slideshow": {
     "slide_type": "subslide"
    }
   },
   "source": [
    "### Asian option (cont'd)\n",
    "* Sample stock price paths monitored every month: "
   ]
  },
  {
   "cell_type": "code",
   "execution_count": 37,
   "metadata": {
    "hideCode": false,
    "hidePrompt": false
   },
   "outputs": [],
   "source": [
    "m=12\n",
    "t = np.arange(0,1+1/m, 1/m)\n",
    "w = npr.standard_normal([n,m])\n",
    "s = np.zeros([n,m+1])\n",
    "s[:,0] = 100"
   ]
  },
  {
   "cell_type": "code",
   "execution_count": 38,
   "metadata": {
    "hideCode": false,
    "hidePrompt": false
   },
   "outputs": [],
   "source": [
    "for i in range(1,m+1):\n",
    "    dt = t[i]-t[i-1]\n",
    "    s[:,i] = s[:,i-1] * np.exp((0.05-0.5 * 0.2**2) * dt + 0.2 * np.sqrt(dt) * w[:,i-1])"
   ]
  },
  {
   "cell_type": "markdown",
   "metadata": {
    "slideshow": {
     "slide_type": "subslide"
    }
   },
   "source": [
    "### Asian option (cont'd)\n",
    "* Sample stock price paths monitored every month: "
   ]
  },
  {
   "cell_type": "code",
   "execution_count": 39,
   "metadata": {
    "hideCode": false,
    "hidePrompt": false
   },
   "outputs": [
    {
     "data": {
      "image/png": "[encoded data removed]",
      "text/plain": [
       "<Figure size 432x288 with 1 Axes>"
      ]
     },
     "metadata": {
      "needs_background": "light"
     },
     "output_type": "display_data"
    }
   ],
   "source": [
    "plt.plot(t, np.transpose(s[0:10]));"
   ]
  },
  {
   "cell_type": "markdown",
   "metadata": {
    "hideCode": false,
    "hidePrompt": false,
    "slideshow": {
     "slide_type": "subslide"
    }
   },
   "source": [
    "### Asian option (cont'd)\n",
    "* Monte Carlo simulation code:"
   ]
  },
  {
   "cell_type": "code",
   "execution_count": 40,
   "metadata": {
    "hideCode": false,
    "hidePrompt": false
   },
   "outputs": [],
   "source": [
    "ms=np.mean(s, axis=1)\n",
    "y = list(map(lambda x: np.exp(-0.05*1) * np.max([x-100,0]), ms))"
   ]
  },
  {
   "cell_type": "code",
   "execution_count": 41,
   "metadata": {
    "hideCode": false,
    "hidePrompt": false
   },
   "outputs": [],
   "source": [
    "y_m = []\n",
    "y_cfl = []\n",
    "y_cfu = []\n",
    "for i in range(1000, n+1, 1000):\n",
    "    y_m.append(np.mean(y[:i]))\n",
    "    y_cfl.append(np.mean(y[:i] - 1.96 * np.std(y[:i])/np.sqrt(i)))    \n",
    "    y_cfu.append(np.mean(y[:i] + 1.96 * np.std(y[:i])/np.sqrt(i)))"
   ]
  },
  {
   "cell_type": "markdown",
   "metadata": {
    "hideCode": false,
    "hidePrompt": false,
    "slideshow": {
     "slide_type": "subslide"
    }
   },
   "source": [
    "### Asian option (cont'd)\n",
    "* Simulated option price (solid line) with 95% confidence intervals (green)"
   ]
  },
  {
   "cell_type": "code",
   "execution_count": 42,
   "metadata": {
    "hideCode": false,
    "hidePrompt": false
   },
   "outputs": [
    {
     "data": {
      "image/png": "[encoded data removed]",
      "text/plain": [
       "<Figure size 432x288 with 1 Axes>"
      ]
     },
     "metadata": {
      "needs_background": "light"
     },
     "output_type": "display_data"
    }
   ],
   "source": [
    "plt.plot(range(1000,n+1,1000), y_m, 'b', \\\n",
    "         range(1000,n+1,1000), y_cfl, 'g', range(1000,n+1,1000), y_cfu, 'g');\n",
    "plt.xlabel('number of simulations');\n",
    "plt.ylabel('estimates');"
   ]
  },
  {
   "cell_type": "markdown",
   "metadata": {
    "hideCode": false,
    "hidePrompt": false,
    "slideshow": {
     "slide_type": "subslide"
    }
   },
   "source": [
    "### Path-dependent options\n",
    "* Now consider the following path-dependent payoffs: \n",
    "    * **continuously monitored Asian option** with payoff\n",
    "      \\begin{equation*}\n",
    "      \\left(\\frac{1}{T} \\int_0^T S_u\\, d u - K\\right)^+\n",
    "      \\end{equation*}\n",
    "    * **lookback option** with payoff\n",
    "      \\begin{equation*}\n",
    "      \\max_{0\\leq t\\leq T} S_t-S_T\n",
    "      \\end{equation*}\n",
    "* These options cannot be simulated exactly, but only with a discretisation error in the payoff. \n",
    "* This introduces a bias in the estimated value. \n",
    "* In the case of the lookback option, the discretised option value will almost surely underestimate the option value. "
   ]
  }
 ],
 "metadata": {
  "celltoolbar": "Slideshow",
  "hide_code_all_hidden": true,
  "kernelspec": {
   "display_name": "Python 3",
   "language": "python",
   "name": "python3"
  },
  "language_info": {
   "codemirror_mode": {
    "name": "ipython",
    "version": 3
   },
   "file_extension": ".py",
   "mimetype": "text/x-python",
   "name": "python",
   "nbconvert_exporter": "python",
   "pygments_lexer": "ipython3",
   "version": "3.7.6"
  },
  "latex_metadata": {
   "author": "Prof.\\ Dr.\\ Natalie Packham\\\\ Berlin School of Economics and Law\\\\ Computational Finance and FinTech\\\\ Summer Term 2020",
   "bib": "notebook.bib",
   "title": "Probabilities and Monte Carlo simulation"
  },
  "livereveal": {
   "slideNumber": "c"
  },
  "toc": {
   "base_numbering": "7",
   "nav_menu": {},
   "number_sections": true,
   "sideBar": true,
   "skip_h1_title": false,
   "title_cell": "Table of Contents",
   "title_sidebar": "Contents",
   "toc_cell": false,
   "toc_position": {
    "height": "calc(100% - 180px)",
    "left": "10px",
    "top": "150px",
    "width": "288px"
   },
   "toc_section_display": true,
   "toc_window_display": false
  }
 },
 "nbformat": 4,
 "nbformat_minor": 4
}

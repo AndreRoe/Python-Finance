{
 "cells": [
  {
   "cell_type": "markdown",
   "metadata": {},
   "source": [
    "# Computational Finance and FinTech, Problem Set 8\n",
    "## (c) Prof. Dr. N. Packham, HWR Berlin\n",
    "## Exercise 1"
   ]
  },
  {
   "cell_type": "code",
   "execution_count": 17,
   "metadata": {},
   "outputs": [],
   "source": [
    "import numpy as np\n",
    "import pandas as pd\n",
    "import scipy as sc\n",
    "import scipy.stats as scs\n",
    "import matplotlib.pyplot as plt"
   ]
  },
  {
   "cell_type": "code",
   "execution_count": 18,
   "metadata": {},
   "outputs": [],
   "source": [
    "dax = pd.read_csv('../data/dax.csv', index_col=0) # load the data; possibly requires to adjust the directory"
   ]
  },
  {
   "cell_type": "code",
   "execution_count": 19,
   "metadata": {},
   "outputs": [
    {
     "data": {
      "text/html": [
       "<div>\n",
       "<style scoped>\n",
       "    .dataframe tbody tr th:only-of-type {\n",
       "        vertical-align: middle;\n",
       "    }\n",
       "\n",
       "    .dataframe tbody tr th {\n",
       "        vertical-align: top;\n",
       "    }\n",
       "\n",
       "    .dataframe thead th {\n",
       "        text-align: right;\n",
       "    }\n",
       "</style>\n",
       "<table border=\"1\" class=\"dataframe\">\n",
       "  <thead>\n",
       "    <tr style=\"text-align: right;\">\n",
       "      <th></th>\n",
       "      <th>value</th>\n",
       "      <th>ret</th>\n",
       "    </tr>\n",
       "    <tr>\n",
       "      <th>date</th>\n",
       "      <th></th>\n",
       "      <th></th>\n",
       "    </tr>\n",
       "  </thead>\n",
       "  <tbody>\n",
       "    <tr>\n",
       "      <th>11/27/1990</th>\n",
       "      <td>1415.300049</td>\n",
       "      <td>-1.952128</td>\n",
       "    </tr>\n",
       "    <tr>\n",
       "      <th>11/28/1990</th>\n",
       "      <td>1420.599976</td>\n",
       "      <td>0.373774</td>\n",
       "    </tr>\n",
       "    <tr>\n",
       "      <th>11/29/1990</th>\n",
       "      <td>1418.900024</td>\n",
       "      <td>-0.119736</td>\n",
       "    </tr>\n",
       "    <tr>\n",
       "      <th>11/30/1990</th>\n",
       "      <td>1441.199951</td>\n",
       "      <td>1.559413</td>\n",
       "    </tr>\n",
       "    <tr>\n",
       "      <th>12/03/1990</th>\n",
       "      <td>1462.599976</td>\n",
       "      <td>1.473959</td>\n",
       "    </tr>\n",
       "  </tbody>\n",
       "</table>\n",
       "</div>"
      ],
      "text/plain": [
       "                  value       ret\n",
       "date                             \n",
       "11/27/1990  1415.300049 -1.952128\n",
       "11/28/1990  1420.599976  0.373774\n",
       "11/29/1990  1418.900024 -0.119736\n",
       "11/30/1990  1441.199951  1.559413\n",
       "12/03/1990  1462.599976  1.473959"
      ]
     },
     "execution_count": 19,
     "metadata": {},
     "output_type": "execute_result"
    }
   ],
   "source": [
    "dax.head()"
   ]
  },
  {
   "cell_type": "code",
   "execution_count": 20,
   "metadata": {},
   "outputs": [
    {
     "data": {
      "text/html": [
       "<div>\n",
       "<style scoped>\n",
       "    .dataframe tbody tr th:only-of-type {\n",
       "        vertical-align: middle;\n",
       "    }\n",
       "\n",
       "    .dataframe tbody tr th {\n",
       "        vertical-align: top;\n",
       "    }\n",
       "\n",
       "    .dataframe thead th {\n",
       "        text-align: right;\n",
       "    }\n",
       "</style>\n",
       "<table border=\"1\" class=\"dataframe\">\n",
       "  <thead>\n",
       "    <tr style=\"text-align: right;\">\n",
       "      <th></th>\n",
       "      <th>value</th>\n",
       "      <th>ret</th>\n",
       "    </tr>\n",
       "    <tr>\n",
       "      <th>date</th>\n",
       "      <th></th>\n",
       "      <th></th>\n",
       "    </tr>\n",
       "  </thead>\n",
       "  <tbody>\n",
       "    <tr>\n",
       "      <th>04/04/2016</th>\n",
       "      <td>9822.080078</td>\n",
       "      <td>0.279766</td>\n",
       "    </tr>\n",
       "    <tr>\n",
       "      <th>04/05/2016</th>\n",
       "      <td>9563.360352</td>\n",
       "      <td>-2.669375</td>\n",
       "    </tr>\n",
       "    <tr>\n",
       "      <th>04/06/2016</th>\n",
       "      <td>9624.509766</td>\n",
       "      <td>0.637378</td>\n",
       "    </tr>\n",
       "    <tr>\n",
       "      <th>04/07/2016</th>\n",
       "      <td>9530.620117</td>\n",
       "      <td>-0.980316</td>\n",
       "    </tr>\n",
       "    <tr>\n",
       "      <th>04/08/2016</th>\n",
       "      <td>9622.259766</td>\n",
       "      <td>0.956935</td>\n",
       "    </tr>\n",
       "  </tbody>\n",
       "</table>\n",
       "</div>"
      ],
      "text/plain": [
       "                  value       ret\n",
       "date                             \n",
       "04/04/2016  9822.080078  0.279766\n",
       "04/05/2016  9563.360352 -2.669375\n",
       "04/06/2016  9624.509766  0.637378\n",
       "04/07/2016  9530.620117 -0.980316\n",
       "04/08/2016  9622.259766  0.956935"
      ]
     },
     "execution_count": 20,
     "metadata": {},
     "output_type": "execute_result"
    }
   ],
   "source": [
    "dax.tail()"
   ]
  },
  {
   "cell_type": "code",
   "execution_count": 21,
   "metadata": {},
   "outputs": [
    {
     "data": {
      "image/png": "[encoded data removed]",
      "text/plain": [
       "<Figure size 432x288 with 1 Axes>"
      ]
     },
     "metadata": {
      "needs_background": "light"
     },
     "output_type": "display_data"
    }
   ],
   "source": [
    "dax['ret'].plot();"
   ]
  },
  {
   "cell_type": "markdown",
   "metadata": {},
   "source": [
    "## Delta-Normal VaR\n",
    "Calculates VaR on last 300 days"
   ]
  },
  {
   "cell_type": "code",
   "execution_count": 22,
   "metadata": {},
   "outputs": [],
   "source": [
    "alpha = 0.99\n",
    "vol = dax['ret'].iloc[-300:].std() # one-day volatility in percent"
   ]
  },
  {
   "cell_type": "code",
   "execution_count": 23,
   "metadata": {},
   "outputs": [
    {
     "data": {
      "text/plain": [
       "341.2389089796778"
      ]
     },
     "execution_count": 23,
     "metadata": {},
     "output_type": "execute_result"
    }
   ],
   "source": [
    "VaR = - dax['value'].iloc[-1] * scs.norm.ppf(1-alpha) * vol/100\n",
    "VaR"
   ]
  },
  {
   "cell_type": "markdown",
   "metadata": {},
   "source": [
    "## Historical simulation\n",
    "Calculates VaR on last 300 days"
   ]
  },
  {
   "cell_type": "code",
   "execution_count": 24,
   "metadata": {},
   "outputs": [
    {
     "data": {
      "text/plain": [
       "351.1680421150887"
      ]
     },
     "execution_count": 24,
     "metadata": {},
     "output_type": "execute_result"
    }
   ],
   "source": [
    "alpha = 0.99\n",
    "VaR = - np.quantile(dax['ret'].iloc[-300:], 1-alpha)/100 * dax['value'].iloc[-1]\n",
    "VaR"
   ]
  },
  {
   "cell_type": "markdown",
   "metadata": {},
   "source": [
    "## GARCH VaR\n",
    "Calibrate GARCH model on last 300 days"
   ]
  },
  {
   "cell_type": "code",
   "execution_count": 25,
   "metadata": {},
   "outputs": [],
   "source": [
    "import arch"
   ]
  },
  {
   "cell_type": "code",
   "execution_count": 26,
   "metadata": {},
   "outputs": [
    {
     "name": "stdout",
     "output_type": "stream",
     "text": [
      "Iteration:      1,   Func. Count:      5,   Neg. LLF: -835.9226678714582\n",
      "Iteration:      2,   Func. Count:     17,   Neg. LLF: -836.3035082434021\n",
      "Iteration:      3,   Func. Count:     25,   Neg. LLF: -836.3070512455265\n",
      "Iteration:      4,   Func. Count:     31,   Neg. LLF: -836.3246787949777\n",
      "Iteration:      5,   Func. Count:     37,   Neg. LLF: -836.3311646806351\n",
      "Iteration:      6,   Func. Count:     42,   Neg. LLF: -836.4394463097121\n",
      "Iteration:      7,   Func. Count:     48,   Neg. LLF: -836.5413867592852\n",
      "Optimization terminated successfully.    (Exit mode 0)\n",
      "            Current function value: -836.5413881681279\n",
      "            Iterations: 11\n",
      "            Function evaluations: 48\n",
      "            Gradient evaluations: 7\n"
     ]
    }
   ],
   "source": [
    "model = arch.arch_model(dax['ret'][-300:]/100, mean='Zero') # set up of GARCH model\n",
    "result = model.fit() # calibrate the model"
   ]
  },
  {
   "cell_type": "code",
   "execution_count": 27,
   "metadata": {},
   "outputs": [
    {
     "name": "stdout",
     "output_type": "stream",
     "text": [
      "                       Zero Mean - GARCH Model Results                        \n",
      "==============================================================================\n",
      "Dep. Variable:                    ret   R-squared:                       0.000\n",
      "Mean Model:                 Zero Mean   Adj. R-squared:                  0.003\n",
      "Vol Model:                      GARCH   Log-Likelihood:                836.541\n",
      "Distribution:                  Normal   AIC:                          -1667.08\n",
      "Method:            Maximum Likelihood   BIC:                          -1655.97\n",
      "                                        No. Observations:                  300\n",
      "Date:                Sun, Jun 28 2020   Df Residuals:                      297\n",
      "Time:                        11:09:03   Df Model:                            3\n",
      "                               Volatility Model                              \n",
      "=============================================================================\n",
      "                 coef    std err          t      P>|t|       95.0% Conf. Int.\n",
      "-----------------------------------------------------------------------------\n",
      "omega      3.8877e-06  1.760e-09   2209.516      0.000  [3.884e-06,3.891e-06]\n",
      "alpha[1]   4.6389e-03  2.452e-02      0.189      0.850 [-4.343e-02,5.270e-02]\n",
      "beta[1]        0.9817  2.431e-02     40.386      0.000      [  0.934,  1.029]\n",
      "=============================================================================\n",
      "\n",
      "Covariance estimator: robust\n"
     ]
    }
   ],
   "source": [
    "print(result.summary())"
   ]
  },
  {
   "cell_type": "code",
   "execution_count": 32,
   "metadata": {},
   "outputs": [
    {
     "data": {
      "text/plain": [
       "0.016553569782949414"
      ]
     },
     "execution_count": 32,
     "metadata": {},
     "output_type": "execute_result"
    }
   ],
   "source": [
    "[alpha0, alpha1, beta] = result.params\n",
    "# forecast directly from the GARCH equation\n",
    "vol = np.sqrt(alpha0 + alpha1 * (dax['ret'].iloc[-1]/100)**2 + beta * result.conditional_volatility[-1]**2)\n",
    "vol"
   ]
  },
  {
   "cell_type": "code",
   "execution_count": 33,
   "metadata": {},
   "outputs": [
    {
     "data": {
      "text/plain": [
       "h.1    0.016554\n",
       "Name: 04/08/2016, dtype: float64"
      ]
     },
     "execution_count": 33,
     "metadata": {},
     "output_type": "execute_result"
    }
   ],
   "source": [
    "# forecast from the result object\n",
    "np.sqrt(result.forecast(horizon=1).variance.iloc[-1])"
   ]
  },
  {
   "cell_type": "code",
   "execution_count": 34,
   "metadata": {},
   "outputs": [
    {
     "data": {
      "text/plain": [
       "370.5470833586581"
      ]
     },
     "execution_count": 34,
     "metadata": {},
     "output_type": "execute_result"
    }
   ],
   "source": [
    "VaR = - dax['value'].iloc[-1] * scs.norm.ppf(1-alpha) * vol\n",
    "VaR"
   ]
  },
  {
   "cell_type": "code",
   "execution_count": null,
   "metadata": {},
   "outputs": [],
   "source": []
  },
  {
   "cell_type": "code",
   "execution_count": null,
   "metadata": {},
   "outputs": [],
   "source": []
  }
 ],
 "metadata": {
  "kernelspec": {
   "display_name": "Python 3",
   "language": "python",
   "name": "python3"
  },
  "language_info": {
   "codemirror_mode": {
    "name": "ipython",
    "version": 3
   },
   "file_extension": ".py",
   "mimetype": "text/x-python",
   "name": "python",
   "nbconvert_exporter": "python",
   "pygments_lexer": "ipython3",
   "version": "3.7.6"
  }
 },
 "nbformat": 4,
 "nbformat_minor": 4
}

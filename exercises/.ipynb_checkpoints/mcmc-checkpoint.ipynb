{
 "cells": [
  {
   "cell_type": "markdown",
   "metadata": {},
   "source": [
    "### MCMC demo\n",
    "\n",
    "Generates samples from a Beta distribution using MCMC"
   ]
  },
  {
   "cell_type": "code",
   "execution_count": 3,
   "metadata": {},
   "outputs": [],
   "source": [
    "import numpy as np\n",
    "import pandas as pd\n",
    "import scipy as sp\n",
    "import scipy.stats as scs\n",
    "import matplotlib.pyplot as plt\n",
    "plt.style.use('seaborn')  # sets the plotting style"
   ]
  },
  {
   "cell_type": "code",
   "execution_count": null,
   "metadata": {},
   "outputs": [],
   "source": [
    "T = 10000\n",
    "sigma=0.2\n",
    "x = np.zeros(T)\n",
    "z = scs.norm.rvs(size=T)\n",
    "x[0]=0\n",
    "for t in range(1,T):\n",
    "    y = x[t-1] + sigma * z[t-1]\n",
    "    alpha = scs.beta.pdf(y,2,5) / scs.beta.pdf(x[t-1],2,5) if scs.beta.pdf(x[t-1],2,5) > 0 else 1 \n",
    "    x[t] = y if scs.uniform.rvs() <= alpha else x[t-1]"
   ]
  },
  {
   "cell_type": "code",
   "execution_count": null,
   "metadata": {},
   "outputs": [],
   "source": [
    "u = np.arange(0,1,0.01)\n",
    "plt.hist(x, bins=20, density=True);\n",
    "plt.plot(u, scs.beta.pdf(u,2,5), linewidth=3)"
   ]
  },
  {
   "cell_type": "code",
   "execution_count": null,
   "metadata": {},
   "outputs": [],
   "source": []
  }
 ],
 "metadata": {
  "kernelspec": {
   "display_name": "Python 3",
   "language": "python",
   "name": "python3"
  },
  "language_info": {
   "codemirror_mode": {
    "name": "ipython",
    "version": 3
   },
   "file_extension": ".py",
   "mimetype": "text/x-python",
   "name": "python",
   "nbconvert_exporter": "python",
   "pygments_lexer": "ipython3",
   "version": "3.7.0"
  }
 },
 "nbformat": 4,
 "nbformat_minor": 2
}
